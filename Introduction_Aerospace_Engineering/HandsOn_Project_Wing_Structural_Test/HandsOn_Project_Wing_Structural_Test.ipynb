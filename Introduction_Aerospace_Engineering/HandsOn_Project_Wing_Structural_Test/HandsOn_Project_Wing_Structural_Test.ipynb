{
 "cells": [
  {
   "cell_type": "markdown",
   "metadata": {},
   "source": [
    "# Hands-on Project: Wing structural test\n",
    "\n",
    "<img src=\"Wing1.png\",width=1000,height=600>"
   ]
  },
  {
   "cell_type": "code",
   "execution_count": 47,
   "metadata": {
    "collapsed": true
   },
   "outputs": [],
   "source": [
    "import numpy as np\n",
    "import matplotlib.pyplot as plt\n",
    "\n",
    "# Placeholders for Stiffness\n",
    "K_f = 100     # Flexure Stiffness\n",
    "K_t = 25      # Torsion Stifness\n",
    "L = 50        # Lenght [cm]\n"
   ]
  },
  {
   "cell_type": "markdown",
   "metadata": {},
   "source": [
    "## What do we want to test?\n",
    "\n",
    "We would like to estimate the $\\textbf{flexure rigidity}$ $K_f$, in other words the $\\textbf{stifness}$ against flexure torques. In the elastic regime, the response of the structure against a flexure load is linear, with a constant of proportionality $K_f$:\n",
    "\n",
    "\\begin{equation}\n",
    "M_f = F L = K_f \\Delta y\n",
    "\\end{equation}\n",
    "\n",
    "So if we apply a force $F$ which induces a flexure torque $M_f$ on the wing structure (of length $L$) the vertical displacement $\\Delta y$ will depend on how stiff $K_f$ our structure is. \n",
    "\n",
    "The way we can estimate this constant in a real life experiment is by examining the response of the structure against different values of the load $F$. For each value of the force applied, we measure the vertical displacement of the wing. If we plot the values, they should look like this:"
   ]
  },
  {
   "cell_type": "code",
   "execution_count": 84,
   "metadata": {},
   "outputs": [
    {
     "data": {
      "image/png": "[encoded data removed]",
      "text/plain": [
       "<matplotlib.figure.Figure at 0x7f16374e58d0>"
      ]
     },
     "metadata": {},
     "output_type": "display_data"
    }
   ],
   "source": [
    "N = 15\n",
    "force = np.linspace(100, 1000, N)\n",
    "e_force = np.random.uniform(low=0.9, high=1.05, size=N)\n",
    "force *= e_force\n",
    "\n",
    "delta_y = np.linspace(1., 5., N)\n",
    "e_delta = np.random.uniform(low=0.9, high=1.1, size=N)\n",
    "plus_delta = np.random.uniform(low=-0.25, high=0.25, size=N)\n",
    "delta_y = e_delta * delta_y + plus_delta\n",
    "\n",
    "plt.figure()\n",
    "plt.scatter(force, delta_y)\n",
    "plt.xlabel('Force [grams]')\n",
    "plt.ylabel('Displacement [cm]')\n",
    "plt.show()"
   ]
  },
  {
   "cell_type": "markdown",
   "metadata": {},
   "source": [
    "It should be fairly linear. Obviously due to several sources of error our measurements are inaccurate. This means that our results will be contaminated with noise\n",
    "\n",
    "## Can you think of some possible sources of error?\n",
    "\n",
    "Our main error contributions in this experiment are uncertainties in the $\\textbf{force}$ applied (we are not using precise weights, but water bottles) and uncertainties in the $\\textbf{displacement}$ we measure (we are eye-balling with a measure tape).\n",
    "\n",
    "Assuming we know a rough estimate of the errors, for instance:\n",
    "\n",
    "\"We can measure distances to $\\pm 0.5$ cm\" or \"We know how much water we put up to $\\pm 25$ grams\"\n",
    "\n",
    "We can incorporate that into error bars and have a more realistic plot "
   ]
  },
  {
   "cell_type": "code",
   "execution_count": 85,
   "metadata": {},
   "outputs": [
    {
     "data": {
      "image/png": "[encoded data removed]",
      "text/plain": [
       "<matplotlib.figure.Figure at 0x7f163754d7f0>"
      ]
     },
     "metadata": {},
     "output_type": "display_data"
    }
   ],
   "source": [
    "y_error = 0.5    # Assumed error [cm]\n",
    "F_error = 25     # Assumed error [grams]\n",
    "\n",
    "plt.figure()\n",
    "plt.errorbar(force, delta_y, xerr=F_error, yerr=y_error, \n",
    "             fmt='o', ecolor='Black')\n",
    "plt.xlabel('Force [grams]')\n",
    "plt.ylabel('Displacement [cm]')\n",
    "plt.show()"
   ]
  },
  {
   "cell_type": "markdown",
   "metadata": {},
   "source": [
    "## Now what do we do with the data?\n",
    "\n",
    "So we have made all these measurements and created some cool plots, but how do we estimate our $\\textbf{flexure rigidity}$ $K_f$? Well we know that, according to the elastic regime equation:\n",
    "\n",
    "\\begin{equation}\n",
    "\\Delta y = \\frac{L}{K_f} F\n",
    "\\end{equation}\n",
    "\n",
    "This is equivalent to a linear model \n",
    "\n",
    "\\begin{equation}\n",
    "y(x) = m x + n\n",
    "\\end{equation}\n",
    "\n",
    "With $m=\\frac{L}{K_f}$ and $n=0$. So we can use a $\\textbf{linear regression}$ algorithm to fit our $\\textbf{data}$ to the $\\textbf{linear model}$"
   ]
  },
  {
   "cell_type": "code",
   "execution_count": 86,
   "metadata": {},
   "outputs": [
    {
     "name": "stdout",
     "output_type": "stream",
     "text": [
      "Estimated stiffness: K_f = 8844.49 [grams]\n",
      "Relative stiffness: K_f/L = 176.89 [grams / cm]\n"
     ]
    }
   ],
   "source": [
    "a = np.array(force)\n",
    "a = a[:, np.newaxis]\n",
    "b = delta_y\n",
    "\n",
    "m1, res, rank, s = np.linalg.lstsq(a, b)\n",
    "K_f1 = L / m1\n",
    "print('Estimated stiffness: K_f = %.2f [grams]' %K_f1)\n",
    "print('Relative stiffness: K_f/L = %.2f [grams / cm]' %(K_f1/L))"
   ]
  },
  {
   "cell_type": "markdown",
   "metadata": {},
   "source": [
    "Let's take a look at how well the fit matches the data"
   ]
  },
  {
   "cell_type": "code",
   "execution_count": 87,
   "metadata": {},
   "outputs": [
    {
     "data": {
      "image/png": "[encoded data removed]",
      "text/plain": [
       "<matplotlib.figure.Figure at 0x7f16373886a0>"
      ]
     },
     "metadata": {},
     "output_type": "display_data"
    }
   ],
   "source": [
    "fake_force = np.linspace(0, 1100, N)\n",
    "\n",
    "plt.figure()\n",
    "plt.scatter(force, delta_y)\n",
    "plt.plot(fake_force, fake_force * m1, linestyle='--', label='Linear Fit')\n",
    "plt.xlabel('Force [grams]')\n",
    "plt.ylabel('Displacement [cm]')\n",
    "plt.xlim([0, 1.1*np.max(force)])\n",
    "plt.ylim([0, 1.1*np.max(delta_y)])\n",
    "plt.legend()\n",
    "plt.show()"
   ]
  },
  {
   "cell_type": "code",
   "execution_count": null,
   "metadata": {
    "collapsed": true
   },
   "outputs": [],
   "source": []
  }
 ],
 "metadata": {
  "kernelspec": {
   "display_name": "Python 3",
   "language": "python",
   "name": "python3"
  },
  "language_info": {
   "codemirror_mode": {
    "name": "ipython",
    "version": 3
   },
   "file_extension": ".py",
   "mimetype": "text/x-python",
   "name": "python",
   "nbconvert_exporter": "python",
   "pygments_lexer": "ipython3",
   "version": "3.6.3"
  }
 },
 "nbformat": 4,
 "nbformat_minor": 2
}
