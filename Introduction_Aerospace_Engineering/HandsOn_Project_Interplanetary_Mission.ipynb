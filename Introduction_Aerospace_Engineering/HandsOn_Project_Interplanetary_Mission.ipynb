{
 "cells": [
  {
   "cell_type": "markdown",
   "metadata": {},
   "source": [
    "# Hands-on project: Interplanetary mission to Mars\n",
    "\n",
    "\n",
    "Bla bla\n",
    "\n",
    "$\\textbf{What we will learn}$:\n",
    "\n",
    "(1) Orbital dynamics and interplanetary transfers\n",
    "\n",
    "(2) How NASA and ESA plan their missions to Mars.\n",
    "\n",
    "(3) The concept of $\\textit{\"launch windows\"}$ and why the launch date of the rocket matters\n"
   ]
  },
  {
   "cell_type": "markdown",
   "metadata": {},
   "source": [
    "## 1 - Simple case: Hohmann transfer\n",
    "\n",
    "The most $\\textbf{efficient}$ transfer in terms of fuel consumption (the cheapest).\n",
    "That doesn't mean its the fastest. You can get there faster at the cost of more fuel"
   ]
  },
  {
   "cell_type": "code",
   "execution_count": 136,
   "metadata": {
    "collapsed": true
   },
   "outputs": [],
   "source": [
    "import numpy as np\n",
    "import matplotlib.pyplot as plt\n",
    "from matplotlib.patches import Ellipse\n",
    "\n",
    "AU = 149597870700             # 1 AU in [m]\n",
    "MU_SUN = 1.327124e20          # Gravitational Parameter: Sun [m^3/s^2]\n",
    "MU_EARTH = 3.986e14           # Gravitational Parameter: Earth [m^3/s^2]\n",
    "EARTH_AU = 1.0                # Earth orbital radius [AU]\n",
    "MARS_AU = 1.524               # Mars orbital radius [AU]\n",
    "R_EARTH = 6371000             # Earth's radius [m]\n",
    "R_MARS = 3390000              # Mars' radius [m]"
   ]
  },
  {
   "cell_type": "code",
   "execution_count": null,
   "metadata": {},
   "outputs": [],
   "source": []
  },
  {
   "cell_type": "code",
   "execution_count": null,
   "metadata": {
    "collapsed": true
   },
   "outputs": [],
   "source": []
  },
  {
   "cell_type": "code",
   "execution_count": 138,
   "metadata": {},
   "outputs": [
    {
     "data": {
      "image/png": "[encoded data removed]",
      "text/plain": [
       "<matplotlib.figure.Figure at 0x7fa8f8eae4a8>"
      ]
     },
     "metadata": {},
     "output_type": "display_data"
    }
   ],
   "source": [
    "Sun = plt.Circle((0, 0), 0.15*EARTH_AU, facecolor='Yellow', label='Sun')\n",
    "Earth = plt.Circle((0, -EARTH_AU), 0.05*EARTH_AU, facecolor='Blue', edgecolor='Blue', label='Earth')\n",
    "Mars = plt.Circle((0, MARS_AU), 0.04*MARS_AU, facecolor='Red', edgecolor='Red', label='Mars')\n",
    "Earth_Orbit = plt.Circle((0, 0), EARTH_AU, facecolor='none', edgecolor='Blue', label='Earth orbit')\n",
    "Mars_Orbit = plt.Circle((0, 0), MARS_AU, facecolor='none', edgecolor='Red', label='Mars orbit')\n",
    "\n",
    "c_ellipse = 0.5 * (MARS_AU - EARTH_AU)\n",
    "width = (MARS_AU + EARTH_AU)\n",
    "height = 2*np.sqrt(MARS_AU * EARTH_AU)\n",
    "Transfer_orbit = Ellipse(xy=[0,c_ellipse], width=width, height=height, angle=90, \n",
    "                         facecolor='none', edgecolor='Black', linestyle='--', label='Transfer')\n",
    "\n",
    "fig, ax = plt.subplots(figsize=(8,8))\n",
    "ax.add_artist(Sun)\n",
    "ax.add_artist(Earth)\n",
    "ax.add_artist(Mars)\n",
    "ax.add_artist(Earth_Orbit)\n",
    "ax.add_artist(Mars_Orbit)\n",
    "ax.add_artist(Transfer_orbit)\n",
    "ax.set_aspect('equal')\n",
    "ax.set_xlim([-2, 2])\n",
    "ax.set_ylim([-2, 2])\n",
    "plt.quiver(0, -EARTH_AU, 1, 0)\n",
    "plt.quiver(0, MARS_AU, -1, 0)\n",
    "plt.xlabel('AU')\n",
    "plt.ylabel('AU')\n",
    "plt.title('Hohmnann transfer from Earth to Mars')\n",
    "plt.axis('off')\n",
    "plt.show()"
   ]
  },
  {
   "cell_type": "markdown",
   "metadata": {},
   "source": [
    "### 1.1 - Transfer time"
   ]
  },
  {
   "cell_type": "code",
   "execution_count": 139,
   "metadata": {},
   "outputs": [
    {
     "name": "stdout",
     "output_type": "stream",
     "text": [
      "Hohmann transfer to Mars takes around 258.92 days (8.63 months)\n",
      "\n",
      "Mars Odissey (2001) completed the trip in: 200 days\n",
      "Mars Reconnaissance Orbiter (2005) completed the trip in: 210 days\n",
      "Mars Science Laboratory (2011) completed the trip in: 254 days\n"
     ]
    }
   ],
   "source": [
    "rp = EARTH_AU * AU                                    # Radius @ Perihelion (Earth)  [m]\n",
    "ra = MARS_AU * AU                                     # Radius @ Apohelion (Mars)   [m]\n",
    "a = 0.5 * (rp + ra)                                   # Semimajor axis \"a\" [m]\n",
    "t_f = np.pi * np.sqrt(a**3 / MU_SUN)                  # Time of flight [sec]\n",
    "\n",
    "t_days = t_f / 3600 / 24\n",
    "t_months = t_days / 30\n",
    "\n",
    "print('Hohmann transfer to Mars takes around %.2f days (%.2f months)' %(t_days, t_months))\n",
    "\n",
    "print('\\nMars Odissey (2001) completed the trip in: 200 days')\n",
    "print('Mars Reconnaissance Orbiter (2005) completed the trip in: 210 days')\n",
    "print('Mars Science Laboratory (2011) completed the trip in: 254 days')"
   ]
  },
  {
   "cell_type": "markdown",
   "metadata": {},
   "source": [
    "### 1.2 - $\\Delta V$ needed\n",
    "\n",
    "Climbing via a Hohmann transfer from a circular orbit at 1 AU (Earth's orbit) to the orbit of Mars at approximately 1.52 AU requires a certain $\\Delta V$ to accelerate the spacecraft against the gravitational pull of the Sun.\n",
    "\n",
    "\\begin{equation}\n",
    "\\Delta V = v_p - v_{c,p} = \\sqrt{\\frac{\\mu (1 + e)}{r_p}} - \\sqrt{\\frac{\\mu}{r_p}}\n",
    "\\end{equation}"
   ]
  },
  {
   "cell_type": "code",
   "execution_count": 140,
   "metadata": {},
   "outputs": [
    {
     "name": "stdout",
     "output_type": "stream",
     "text": [
      "Circular velocity at Perihelion Vc,p = 29.78 [km/s]\n",
      "Required velocity at Perihelion for Hohmann transfer Vp = 32.73 [km/s]\n",
      "\n",
      "Required DeltaV = 2.95 [km/s]\n"
     ]
    }
   ],
   "source": [
    "e = 1. - rp/a                                    # Eccentricity of the Hohmann transfer ellipse\n",
    "v_cp = np.sqrt(MU_SUN / rp)                      # Circular orbital velocity @ Perihelion (Earth) [m/s]\n",
    "v_p = np.sqrt(MU_SUN * (1 + e) / rp)             # Velocity @ Perihelion (Earth) for Hohmann transfer [m/s]\n",
    "dv_hohmann = v_p - v_cp                          # Delta V need to initiate Hohmann transfer\n",
    "\n",
    "print('Circular velocity at Perihelion Vc,p = %.2f [km/s]' %(v_cp/1000))\n",
    "print('Required velocity at Perihelion for Hohmann transfer Vp = %.2f [km/s]' %(v_p/1000))\n",
    "print('\\nRequired DeltaV = %.2f [km/s]' %(dv_hohmann/1000))"
   ]
  },
  {
   "cell_type": "markdown",
   "metadata": {},
   "source": [
    "## Launch windows\n",
    "\n",
    "So far we have not considered neither the relative positions of the planets nor the particular launch date. However, it is very easy to see that those factors matter greatly. As the Earth and Mars orbit the Sun at different orbital speeds, their relative positions change throughout the year. As a result, you can't launch your spacecraft any day you want because by the time you get there, Mars might not be there waiting for you. In fact it could be at the other side of the Sun, millions of kilometers away from you."
   ]
  },
  {
   "cell_type": "code",
   "execution_count": null,
   "metadata": {
    "collapsed": true
   },
   "outputs": [],
   "source": []
  },
  {
   "cell_type": "code",
   "execution_count": null,
   "metadata": {
    "collapsed": true
   },
   "outputs": [],
   "source": []
  },
  {
   "cell_type": "markdown",
   "metadata": {},
   "source": [
    "## The whole picture\n",
    "\n",
    "The Hohmann transfer calculation we did at the beginning only accounts for the elliptical branch of the Hohmann transfer. This assumes that the spacecraft has already escaped the gravitational pull of the Earth and it is now within the spher of influence of the Sun.\n",
    "\n",
    "But in order to get there we will need to accelerate the spacecraft from a circular parking orbit around Earth, to a hyperbolic scape trajectory. That requires an additional push. Let's assume the spacecraft is initially parked at a circular orbit $r_0$, with its associated circular velocity $v_{c0}$\n",
    "\n",
    "\\begin{equation}\n",
    "v_{c0} = \\sqrt{\\frac{\\mu}{r_0}}\n",
    "\\end{equation}\n",
    "\n",
    "Now we need to increase the speed of the spacecraft (by burning fuel) until we reach an unknown velocity $v_{0}$ and enter a escape trajectory. In this case the orbits changes from circular to hyperbolic. Recalling the equation of energy balance, we can relate the unknown velocity $v_{0}$ to the velocity we want to reach after escaping Earth's gravity $v_{\\infty 0}$\n",
    "\n",
    "\\begin{equation}\n",
    "\\frac{v_{0}^2}{2} - \\frac{\\mu}{r_0} = \\frac{v_{\\infty 0}^2}{2}\n",
    "\\end{equation}\n",
    "\n",
    "The $\\Delta V_{\\infty 0}$ will then be the difference between the velocity we need $v_{0}$ and the velocity we have $v_{c0}$\n",
    "\n",
    "\\begin{equation}\n",
    "\\Delta V_{\\infty 0} = v_{0} - v_{c0}\n",
    "\\end{equation}\n",
    "\n",
    "The important thing to note here is that $v_{\\infty 0}$ is directly related to the velocity at the Perihelion $v_p$ which we computed for the Hohmann transfer. As Earth is orbiting the Sun at $v_{c,p}$ and we want to reach a velocity with respect to the Sun which is $v_p$\n",
    "\n",
    "\\begin{equation}\n",
    "v_p = v_{c,p} + v_{\\infty 0}\n",
    "\\end{equation}\n",
    "\n",
    "\\begin{equation}\n",
    "v_{\\infty 0} = v_p - v_{c,p} = \\Delta V\n",
    "\\end{equation}\n",
    "\n",
    "In other words, starting from a parking orbit at $r_0$ with initial velocity $v_{c0}$ we accelerate the spacecraft up to a velocity $v_0$, that puts it in a escape trajectory that will eventually reach a velocity $v_{\\infty 0}$. As this is all with respect to the Earth, we need to take into account the orbital velocity of the Earth around the Sun $v_{c,p}$"
   ]
  },
  {
   "cell_type": "code",
   "execution_count": 141,
   "metadata": {},
   "outputs": [
    {
     "name": "stdout",
     "output_type": "stream",
     "text": [
      "Circular parking orbit at 600 km above Earth\n",
      "Orbital velocity at parking orbit Vc0 = 7.56 [km/s]\n",
      "Required velocity to enter escapte trajectory V0 = 11.09 [km/s]\n",
      "\n",
      "Required DeltaV = 3.53 [km/s]\n"
     ]
    }
   ],
   "source": [
    "h0 = 600 * 1000                                    # Height of initial parking orbit [m]\n",
    "r0 = R_EARTH + h0                                  # Radius of the parking orbit [m]\n",
    "vc0 = np.sqrt(MU_EARTH/r0)                         # Circular velocity at parking orbit [m/s]\n",
    "\n",
    "v_inf0 = dv_hohmann                                # Velocity after escape from Earth [m/s]\n",
    "v0 = np.sqrt(2 * (v_inf0**2/2 + vc0**2))           # Velocity required to enter escape trajectory [m/s]\n",
    "dv_escape = v0 - vc0                               # Delta V required to escape Earth [m/s]\n",
    "\n",
    "print('Circular parking orbit at %.0f km above Earth' %(h0 / 1000))\n",
    "print('Orbital velocity at parking orbit Vc0 = %.2f [km/s]' %(vc0 / 1000))\n",
    "print('Required velocity to enter escapte trajectory V0 = %.2f [km/s]' %(v0/1000))\n",
    "\n",
    "print('\\nRequired DeltaV = %.2f [km/s]' %(dv_escape/1000))"
   ]
  },
  {
   "cell_type": "code",
   "execution_count": null,
   "metadata": {
    "collapsed": true
   },
   "outputs": [],
   "source": []
  },
  {
   "cell_type": "code",
   "execution_count": 142,
   "metadata": {},
   "outputs": [
    {
     "data": {
      "image/png": "[encoded data removed]",
      "text/plain": [
       "<matplotlib.figure.Figure at 0x7fa8f9cda160>"
      ]
     },
     "metadata": {},
     "output_type": "display_data"
    }
   ],
   "source": [
    "Earth = plt.Circle((0, 0), 0.2, facecolor='Blue', edgecolor='Blue', label='Earth')\n",
    "d = 0.6\n",
    "Spacecraft = plt.Circle((-d, 0), 0.05, facecolor='Green', edgecolor='Green', label='Spacecraft')\n",
    "u = np.linspace(-5, 5, 100)\n",
    "x, y = np.meshgrid(u, u)\n",
    "\n",
    "fig, ax = plt.subplots(figsize=(8,8))\n",
    "a = 1.\n",
    "b = 1.\n",
    "\n",
    "plt.contour(x, y,((x + 2.67*d)**2/a**2 - y**2/b**2), [1], colors='k', linestyles='--')\n",
    "plt.contour(x, y,((x)**2 + y**2), [d**2], colors='Green' )\n",
    "\n",
    "ax.add_artist(Earth)\n",
    "ax.add_artist(Spacecraft)\n",
    "ax.set_aspect('equal')\n",
    "ax.set_xlim([-1, 1])\n",
    "ax.set_ylim([-1, 1])\n",
    "plt.quiver(-1.2*d, 0, 0, 1)\n",
    "plt.title('Escape trajectory from Earth')\n",
    "plt.axis('off')\n",
    "plt.show()"
   ]
  },
  {
   "cell_type": "code",
   "execution_count": null,
   "metadata": {
    "collapsed": true
   },
   "outputs": [],
   "source": []
  }
 ],
 "metadata": {
  "kernelspec": {
   "display_name": "Python 3",
   "language": "python",
   "name": "python3"
  },
  "language_info": {
   "codemirror_mode": {
    "name": "ipython",
    "version": 3
   },
   "file_extension": ".py",
   "mimetype": "text/x-python",
   "name": "python",
   "nbconvert_exporter": "python",
   "pygments_lexer": "ipython3",
   "version": "3.6.3"
  }
 },
 "nbformat": 4,
 "nbformat_minor": 2
}
