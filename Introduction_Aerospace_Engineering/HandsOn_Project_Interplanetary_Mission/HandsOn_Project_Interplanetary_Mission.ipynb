{
 "cells": [
  {
   "cell_type": "markdown",
   "metadata": {},
   "source": [
    "# Hands-on project: Interplanetary mission to Mars\n",
    "\n",
    "<img src=\"Curiosity2.jpg\",width=1000,height=600>\n",
    "\n",
    "Mars is by far the most popular destination for scientific space missions. The first fully successful mission was carried out in 1964 by the $\\textbf{Mariner 4}$ (NASA) which executed a $\\textit{\"fly-by\"}$ and sent back several pictures. After that, several other missions managed to orbit around the red planet for a substantial amount of orbits. More than 10 years later, in 1975 the $\\textbf{Viking 1}$ and $\\textbf{Viking 2}$ NASA missions successfully landed on the surface of Mars, operating for more than 1000 $\\textit{sols}$ (solar days on Mars). After that milestone the list of successes goes on and on, including: $\\textbf{Mars Global Surveyor}$ (NASA 1996), $\\textbf{Mars Pathfinder}$ (NASA 1997), $\\textbf{2001 Mars Odissey}$ (NASA 2001), $\\textbf{Mars Express}$ (NASA 2003), etc. Probably the most famous ones are the Rover missions, starting with $\\textbf{Opportunity}$ which landed in 2004 and has been operational for more than 5000 sols; followed by $\\textbf{Curiosity}$ which landed in 2012 and has been delivering fascinating observations for over 2000 sols.\n",
    "\n",
    "There are still many mysteries to unveil about Mars and we will remain fascinated by our red neighbour for many decades, with exiting missions such as $\\textbf{Mars 2020}$ and $\\textbf{ExoMars}$ planned for the near future.\n",
    "\n",
    "But make no mistake, sending a spacecraft to Mars is no piece of cake. In fact, a large number of failed missions testify about how challenging interplanetary travel can be. It is feat of engineering to put a robot inside a rocket launcher, lift it up against the pull of Earth's gravity, accelerate it into a escape trajectory towards Mars, have it survive a trip of hundreds of millions of kilometers through the harsh environment of space for almost a whole year, land it sound and safe on the surface of Mars and operate it for thousands of days. Yet we have done it in the past, and we will do it again in the future.\n",
    "\n",
    "<img src=\"JPL_control_room.jpg\",width=1000,height=600>\n",
    "\n",
    "It is thanks to the hard work of engineers and scientists that this challenge becomes a reality. In this $\\textbf{hands-on project}$ we will put ourselves inside the mind of some of the mission design engineers at NASA / ESA and try to understand the basics of interplanetary travel to Mars.\n",
    "\n",
    "# What we will learn:\n",
    "\n",
    "(1) $\\textbf{Orbital dynamics and interplanetary transfers}$. What does the journey to Mars look like? What sort of orbits our spacecraft needs to follow?\n",
    "\n",
    "(2) $\\textbf{How NASA and ESA plan a mission to Mars}$. How long does it take to get us there? How much fuel do we need to burn in the process?\n",
    "\n",
    "(3) $\\textbf{The concept of $\\textit{\"launch windows\"}$}$. Why does the launch date of the rocket matter? How does it affect our planning?\n",
    "\n",
    "\n"
   ]
  },
  {
   "cell_type": "markdown",
   "metadata": {},
   "source": [
    "# What does the journey look like?\n",
    "\n",
    "The first question we should ask ourselves is \"how do we get there and how does the route look like\". In a sense, you do just that every time you plan a trip, right? You go into Google Maps, type your destination and it will tell you which route to follow. For example, if you want to get to Oxford from here at Cambridge the trip would look more or less like this: take a train from Cambridge to King's Cross London, take the underground to get to Baker Stret Station, walk to Marylebone Station and take a train to Oxford. As the interplanetary public transport system is quite comparable to the British one, the trip to Mars is only $\\textit{slightly}$ more complicated. But you get the gist of it.\n",
    "\n",
    "\n",
    "<img src=\"Cambridge_Oxford.png\",width=1000,height=600>\n",
    "\n",
    "So we need to look up the $\\textit{travel plan}$ from Earth to Mars. Unfortunately, Google does not provide that service (yet) so we need to do that on our own. \n",
    "\n",
    "### Can you think of a rough estimate of how the trip would look like?\n",
    "Try to discuss it with your friends and see what sort of ideas they come up with.\n",
    "\n",
    "A brief answer to that question is that we can decompose the trip into several distinct phases:\n",
    "\n",
    "(I) Launch from Earth up to a $\\textbf{circular parking orbit}$\n",
    "\n",
    "(II) Departure along a escape trajectory into a $\\textbf{transfer orbit}$\n",
    "\n",
    "(III) Interplanetary transfer towards Mars\n",
    "\n",
    "(IV) Arrival at Mars, brake into a $\\textbf{capture orbit}$\n",
    "\n",
    "(V) Descent and landing on Mars\n",
    "\n",
    "Here we are mostly interested in $\\textbf{Phase (II)}$ and $\\textbf{Phase (III)}$, in other words: how do we leave Earth and how do we get to Mars with a transfer orbit. In our terrestial example: how do we get out Cambridge (do we take the train, do we drive our car)? and which direction are we heading (do we go through London, do we follow the highway)?\n",
    "\n",
    "The other phases are not so important. For instance, Phase (I) deals with getting a rocket up to a circular orbit around Earth, which has nothing to do with interplanetary travel but is an integral part of the mission. That would be equivalent to getting from your house at Cambridge to the train station. It is an inevitable part of the trip, but you are still at Cambridge.\n",
    "\n",
    "The arrival at Mars, Phase (IV) is equivalent to Phase (II) but reversed: how do you enter Oxford (through the train station or via the highway)? And the last Phase (V) of descending onto Mars is like saying: you just arrived at the Oxford train station, how do you get to your final destination (hotel, college, friend's house)?\n"
   ]
  },
  {
   "cell_type": "markdown",
   "metadata": {},
   "source": [
    "### Some useful constants\n",
    "\n",
    "Let us begin by gathering some important constants that will be useful for our calculations. You should not bother much about them, they are just constants one can easily find in the internet such as the $\\textit{radius}$ of Mars' orbit around the Sun (1.524 Astronomical Units), the strength of Sun's gravity, etc"
   ]
  },
  {
   "cell_type": "code",
   "execution_count": 1,
   "metadata": {
    "collapsed": true
   },
   "outputs": [],
   "source": [
    "import numpy as np\n",
    "import matplotlib.pyplot as plt\n",
    "from matplotlib.patches import Ellipse\n",
    "\n",
    "AU = 149597870700             # 1 AU in [m]\n",
    "MU_SUN = 1.327124e20          # Gravitational Parameter: Sun [m^3/s^2]\n",
    "MU_EARTH = 3.986e14           # Gravitational Parameter: Earth [m^3/s^2]\n",
    "EARTH_AU = 1.0                # Earth orbital radius [AU]\n",
    "MARS_AU = 1.524               # Mars orbital radius [AU]\n",
    "R_EARTH = 6371000             # Earth's radius [m]\n",
    "R_MARS = 3390000              # Mars' radius [m]"
   ]
  },
  {
   "cell_type": "markdown",
   "metadata": {},
   "source": [
    "# Phase (III) -  The transfer from Earth to Mars: Hohmann transfer\n",
    "\n",
    "We begin by analizing Phase (III) because in order to plan our departure from Earth we first need to know \"where we are heading\", so to speak. You have to know whether you are taking the train via London or the car to Oxford, before you head for the train station, right? So we have to start by looking at the interplanetary transfer orbit from Earh to Mars. \n",
    "\n",
    "The most $\\textbf{efficient}$ transfer in terms of fuel consumption (the cheapest) between two circular orbits is the $\\textbf{Hohmann transfer}$. If you run the Cell below you will see a Figure of such a transfer orbit"
   ]
  },
  {
   "cell_type": "code",
   "execution_count": 2,
   "metadata": {},
   "outputs": [
    {
     "data": {
      "image/png": "[encoded data removed]",
      "text/plain": [
       "<matplotlib.figure.Figure at 0x7f2721d64908>"
      ]
     },
     "metadata": {},
     "output_type": "display_data"
    }
   ],
   "source": [
    "\"\"\" DO NOT BOTHER TRYING TO UNDERSTAND THIS PART!!! \"\"\"\n",
    "\"\"\" IT JUST CREATES A NICE PLOT OF THE ORBITS \"\"\"\n",
    "\n",
    "Sun = plt.Circle((0, 0), 0.15*EARTH_AU, facecolor='Yellow', label='Sun')\n",
    "Earth = plt.Circle((0, -EARTH_AU), 0.05*EARTH_AU, facecolor='Blue', edgecolor='Blue', label='Earth')\n",
    "Mars = plt.Circle((0, MARS_AU), 0.04*EARTH_AU, facecolor='Red', edgecolor='Red', label='Mars')\n",
    "Earth_Orbit = plt.Circle((0, 0), EARTH_AU, facecolor='none', edgecolor='Blue', label='Earth orbit')\n",
    "Mars_Orbit = plt.Circle((0, 0), MARS_AU, facecolor='none', edgecolor='Red', label='Mars orbit')\n",
    "\n",
    "c_ellipse = 0.5 * (MARS_AU - EARTH_AU)\n",
    "width = (MARS_AU + EARTH_AU)\n",
    "height = 2*np.sqrt(MARS_AU * EARTH_AU)\n",
    "Transfer_orbit = Ellipse(xy=[0,c_ellipse], width=width, height=height, angle=90, \n",
    "                         facecolor='none', edgecolor='Black', linestyle='--', label='Transfer')\n",
    "\n",
    "fig, ax = plt.subplots(figsize=(8,8))\n",
    "ax.add_artist(Sun)\n",
    "ax.add_artist(Earth)\n",
    "ax.add_artist(Mars)\n",
    "ax.add_artist(Earth_Orbit)\n",
    "ax.add_artist(Mars_Orbit)\n",
    "ax.add_artist(Transfer_orbit)\n",
    "ax.set_aspect('equal')\n",
    "ax.set_xlim([-1.7, 1.7])\n",
    "ax.set_ylim([-1.7, 1.7])\n",
    "plt.quiver(0, -EARTH_AU, 1, 0)\n",
    "plt.quiver(0, MARS_AU, -1, 0)\n",
    "plt.xlabel('AU')\n",
    "plt.ylabel('AU')\n",
    "plt.title('Hohmnann transfer from Earth to Mars')\n",
    "plt.axis('off')\n",
    "plt.show()"
   ]
  },
  {
   "cell_type": "markdown",
   "metadata": {},
   "source": [
    "The plot above shows 3 distinct orbits around the Sun. The innermost circle is the orbit of the $\\textbf{Earth}$ (shown in blue), while the outermost is the orbit of $\\textbf{Mars}$ (shown in red) which is further away from the Sun. The dashed black line shows the $\\textbf{Hohmann transfer}$ joining the orbits of Earth and Mars. That is the interplanetary path our spacecraft will have to follow after departing from Earth, our Cambridge - King's Cross - Marylebone - Oxford route according to Google Maps.\n",
    "\n",
    "The $\\textbf{Hohmann transfer}$ is defined by an Ellipse tangent to both orbits (Earth and Mars) such that the semimajor axis $a$ is defined as:\n",
    "\n",
    "\\begin{equation}\n",
    "a = \\frac{r_p + r_a}{2} = \\frac{r_{\\text{EARTH}} + r_{\\text{MARS}}}{2}\n",
    "\\end{equation}\n",
    "\n",
    "where $r_{\\text{EARTH}}$ and $r_{\\text{MARS}}$ are the radii of the orbits of Earth and Mars around the Sun. The symbols $r_p$ and $r_a$ represent radius at the $\\textbf{perihelion}$ ($\\textit{peri-}$ = near, $\\textit{-Helion}$ = Sun) and radius at the $\\textbf{apohelion}$ ($\\textit{apo-}$ = away, $\\textit{-Helion}$ = Sun) which is a common terminology in Astrodynamics. No need to bother much about the names, just get the idea that the ellipse has a short side (Earth - Sun) and a long side (Sun - Mars) that determines the overall size of the trajectory.\n",
    "\n",
    "# Phase (III) - Transfer time\n",
    "\n",
    "So we already know the interplanetary train we have to take, but how long does it take to get us there? Once we know the information about the shape of the orbit, we can simply compute how long does it take us to travel along that transfer orbit. Kepler's 3rd Law tells us that the $\\textbf{period}$ of the orbit depends on its semimajor axis $\\textbf{a}$, as shown below:\n",
    "\n",
    "\\begin{equation}\n",
    "T = 2 \\pi \\sqrt{\\frac{a^3}{\\mu_{\\text{SUN}}}}\n",
    "\\end{equation}\n",
    "\n",
    "where $\\mu_{\\text{SUN}}$ is the gravitational parameter of the Sun (it tells us how strong Sun's gravity is). Because we only travel half of the ellipse to get to Mars, our transfer time is equal to $\\textbf{half the period}$. \n",
    "\n",
    "### Can you guess how long it will take? Days, weeks, a couple of months, years?\n",
    "\n",
    "Run the Cell below to find out."
   ]
  },
  {
   "cell_type": "code",
   "execution_count": 3,
   "metadata": {},
   "outputs": [
    {
     "name": "stdout",
     "output_type": "stream",
     "text": [
      "Hohmann transfer to Mars takes around 258.92 days (8.63 months)\n",
      "\n",
      "Mars Odissey (2001) completed the trip in: 200 days\n",
      "Mars Reconnaissance Orbiter (2005) completed the trip in: 210 days\n",
      "Mars Science Laboratory (2011) completed the trip in: 254 days\n"
     ]
    }
   ],
   "source": [
    "rp = EARTH_AU * AU                                    # Radius @ Perihelion (Earth)  [m]\n",
    "ra = MARS_AU * AU                                     # Radius @ Apohelion (Mars)   [m]\n",
    "a = 0.5 * (rp + ra)                                   # Semimajor axis \"a\" [m]\n",
    "t_f = np.pi * np.sqrt(a**3 / MU_SUN)                  # Time of flight [sec]\n",
    "\n",
    "t_days = t_f / 3600 / 24\n",
    "t_months = t_days / 30\n",
    "\n",
    "print('Hohmann transfer to Mars takes around %.2f days (%.2f months)' %(t_days, t_months))\n",
    "\n",
    "print('\\nMars Odissey (2001) completed the trip in: 200 days')\n",
    "print('Mars Reconnaissance Orbiter (2005) completed the trip in: 210 days')\n",
    "print('Mars Science Laboratory (2011) completed the trip in: 254 days')"
   ]
  },
  {
   "cell_type": "markdown",
   "metadata": {},
   "source": [
    "# What about Venus?\n",
    "\n",
    "Mars and Venus are the two nearest neighbours of Earth, and we have just seen that the trip to Mars can take over $\\textbf{8 months}$ to complete. Mars is orbiting at 1.52 AU from the Sun which puts it at $\\textbf{0.52}$ AU away from Earth. In contrast, Venus orbits the Sun at 0.72 AU which means it is $\\textbf{0.28}$ AU away from Earth, much closer to us! (around half the distance). This is equivalent to saying: London is closer than Oxford, why not go to London instead?\n",
    "\n",
    "## Can you guess how long does it take to get to Venus if the trip to Mars was around 8 months?\n",
    "Try and think of a rough estimate of the time to complete that trip if Venus is around $\\textbf{half the distance}$ from us, compared to Mars. Run the Cell below to find out the exact value!"
   ]
  },
  {
   "cell_type": "code",
   "execution_count": 4,
   "metadata": {},
   "outputs": [
    {
     "name": "stdout",
     "output_type": "stream",
     "text": [
      "Hohmann transfer to Venus takes around 145.65 days (4.86 months)\n",
      "That is almost half the time it takes to get to Mars!!\n"
     ]
    }
   ],
   "source": [
    "VENUS_AU = 0.72                               # Orbital radius Venus [AU]\n",
    "rp_earth = EARTH_AU * AU \n",
    "ra_venus = VENUS_AU * AU\n",
    "a_venus = 0.5 * (rp_earth + ra_venus)\n",
    "t_venus = np.pi * np.sqrt(a_venus**3 / MU_SUN)\n",
    "\n",
    "t_venus_days = t_venus / 3600 / 24\n",
    "t_venus_months = t_venus_days / 30\n",
    "\n",
    "print('Hohmann transfer to Venus takes around %.2f days (%.2f months)' %(t_venus_days, t_venus_months))\n",
    "print('That is almost half the time it takes to get to Mars!!')"
   ]
  },
  {
   "cell_type": "markdown",
   "metadata": {},
   "source": [
    "## So why not go to Venus?\n",
    "\n",
    "Mars is by far the most popular destination amongst our spacecraft, but we have just seen that Venus is much closer. So why do we keep sending rovers to Mars if it's that far away? Are the beaches at Mars better? Is it because of the universally famous Martian cuisine? Discuss with your friends what reasons could there be to choose Mars instead of Venus.\n",
    "\n",
    "# Phase (III) - Fuel $\\Delta V_{III}$ needed\n",
    "\n",
    "Knowing the $\\textit{time}$ it takes us to get there is only one component of the recipe. The other key element is the $\\textit{cost}$ exemplified by the amount of fuel we spend during that trip. In other words, the $\\textbf{price}$ of the interplanetary train ticket. Fuel expenditure in astrodynamics is better captured by the notion of $\\Delta V_{III}$ which represent the velocity increment we need to provide in order to go from one orbit to another.\n",
    "\n",
    "Climbing via a Hohmann transfer from a circular orbit at 1 AU (Earth's orbit) to the orbit of Mars at approximately 1.52 AU requires a certain $\\Delta V_{III}$ to accelerate the spacecraft against the gravitational pull of the Sun. That $\\Delta V_{III}$ is given by the difference between the velocity we $\\textbf{need to have}$ at Earth's position to enter the transfer, and the velocity we $\\textbf{actually have}$ at that position initially. \n",
    "\n",
    "The velocity we $\\textbf{need}$ is the velocity at perihelion $v_p$ which is given by the shape of the ellipse. The velocity we $\\textbf{have}$ is the circular velocity $v_{c,p} at perihelion. In other words, the velocity at which Earth is orbiting the Sun\n",
    "\n",
    "\\begin{equation}\n",
    "\\Delta V_{III} = v_p - v_{c,p} = \\sqrt{\\frac{\\mu (1 + e)}{r_p}} - \\sqrt{\\frac{\\mu}{r_p}}\n",
    "\\end{equation}\n",
    "\n",
    "Run the Cell below to unveil the value"
   ]
  },
  {
   "cell_type": "markdown",
   "metadata": {},
   "source": [
    "\\begin{equation}\n",
    "\\frac{v^2}{2} - \\frac{\\mu}{r} =0\n",
    "\\end{equation}\n",
    "\\begin{equation}\n",
    "v = \\sqrt{\\frac{2\\mu}{r}} = \\sqrt{2}v_c\n",
    "\\end{equation}"
   ]
  },
  {
   "cell_type": "code",
   "execution_count": 5,
   "metadata": {},
   "outputs": [
    {
     "name": "stdout",
     "output_type": "stream",
     "text": [
      "Circular velocity at Perihelion Vc,p = 29.78 [km/s]\n",
      "Required velocity at Perihelion for Hohmann transfer Vp = 32.73 [km/s]\n",
      "\n",
      "Required DeltaV = 2.95 [km/s]\n"
     ]
    }
   ],
   "source": [
    "e = 1. - rp/a                                    # Eccentricity of the Hohmann transfer ellipse\n",
    "v_cp = np.sqrt(MU_SUN / rp)                      # Circular orbital velocity @ Perihelion (Earth) [m/s]\n",
    "v_p = np.sqrt(MU_SUN * (1 + e) / rp)             # Velocity @ Perihelion (Earth) for Hohmann transfer [m/s]\n",
    "dv_hohmann = v_p - v_cp                          # Delta V need to initiate Hohmann transfer\n",
    "\n",
    "print('Circular velocity at Perihelion Vc,p = %.2f [km/s]' %(v_cp/1000))\n",
    "print('Required velocity at Perihelion for Hohmann transfer Vp = %.2f [km/s]' %(v_p/1000))\n",
    "print('\\nRequired DeltaV = %.2f [km/s]' %(dv_hohmann/1000))"
   ]
  },
  {
   "cell_type": "markdown",
   "metadata": {},
   "source": [
    "So once we have to add approximately $\\textbf{3}$ km/s to the orbital velocity of Earth. In other words, we have to be travelling $\\textbf{3}$ km/s faster than the Earth is orbiting the Sun if we want to eventually climb up to the orbit of Mars.\n",
    "\n",
    "# Phase (II) - Departure from Earth: Escape trajectory\n",
    "\n",
    "At this point we know the following things:\n",
    "\n",
    "(a) $\\textbf{Which way we are heading}$: a Hohmann transfer orbit towards Mars. \"A train from Cambridge heading towards London\"\n",
    "\n",
    "(b) $\\textbf{How long it will take us}$: approximately 8 months. \"How long the train trip takes\"\n",
    "\n",
    "(c) $\\textbf{How much it will costs us}$: around 3 km/s. \"How much the train ticket was\"\n",
    "\n",
    "That pretty much covers the trully interplanetary part of our trip. But what about $\\textbf{Phase (II)}$, the part about leaving the Earth? In our terrestrial example, how do we get from the hall of Cambridge train station to our train? We have to find out about the departure platform, and carry all our luggage (which is quite heavy because we are about to embark in an 8-month train trip and we plan to stay in Mars for several years).\n",
    "\n",
    "Just like in our example, it won't take us that long to get to the platform (the bulk of our trip time is the transfer $\\textbf{Phase (III)}$) but carrying all the luggage can be quite exhausting as the Earth is pulling us with its gravity, so we can expect the $\\Delta V$ for this part to be significant.\n",
    "\n",
    "# Phase (II) - $\\Delta V_{II}$ needed\n",
    "\n",
    "At this point we will assume our spacecraft is at a $\\textbf{circular parking orbit}$ a certain altitude above the Earth, waiting for departure. So we are already at the train station waiting for our train. How we got there from our college at Cambdrige is quite irrelevant. What we know is that we are at a height $h_0$ orbiting the Earth in a circular fashion with a velocity $v_{c0}$ given by\n",
    "\n",
    "\\begin{equation}\n",
    "v_{c0} = \\sqrt{\\frac{\\mu_{\\text{EARTH}}}{r_0}} = \\sqrt{\\frac{\\mu_{\\text{EARTH}}}{r_{\\text{EARTH}} + h_0}}\n",
    "\\end{equation}\n",
    "\n",
    "From that orbit we need to $\\textbf{accelerate}$ our spacecraft so that we escape the pull of Earth's gravity: we have to enter a $\\textbf{escape trajectory}$ which will be a $\\textbf{hyperbolic orbit}$. You can take a look at how those orbit would look like by running the Cell below"
   ]
  },
  {
   "cell_type": "code",
   "execution_count": 6,
   "metadata": {},
   "outputs": [
    {
     "data": {
      "image/png": "[encoded data removed]",
      "text/plain": [
       "<matplotlib.figure.Figure at 0x7fb3361bee10>"
      ]
     },
     "metadata": {},
     "output_type": "display_data"
    }
   ],
   "source": [
    "Earth = plt.Circle((0, 0), 0.2, facecolor='Blue', edgecolor='Blue', label='Earth')\n",
    "d = 0.6\n",
    "Spacecraft = plt.Circle((-d, 0), 0.05, facecolor='Green', edgecolor='Green', label='Spacecraft')\n",
    "u = np.linspace(-5, 5, 100)\n",
    "x, y = np.meshgrid(u, u)\n",
    "\n",
    "fig, ax = plt.subplots(figsize=(8,8))\n",
    "a = 1.\n",
    "b = 1.\n",
    "\n",
    "plt.contour(x, y,((x + 2.67*d)**2/a**2 - y**2/b**2), [1], colors='k', linestyles='--')\n",
    "plt.contour(x, y,((x)**2 + y**2), [d**2], colors='Green' )\n",
    "\n",
    "ax.add_artist(Earth)\n",
    "ax.add_artist(Spacecraft)\n",
    "ax.set_aspect('equal')\n",
    "ax.set_xlim([-1, 1])\n",
    "ax.set_ylim([-1, 1])\n",
    "plt.quiver(-1.2*d, 0, 0, 1)\n",
    "plt.title('Escape trajectory from Earth')\n",
    "plt.axis('off')\n",
    "plt.show()"
   ]
  },
  {
   "cell_type": "markdown",
   "metadata": {},
   "source": [
    "The Figure above shows the Earth (in blue), our spacecraft and its initial $\\textbf{circular parking orbit}$ (in green). At some point we will accelerate it so that we enter a $\\textbf{hyperbolic orbit}$ (dashed black line). To enter that escape trajectoy we need to have a certain velocity $v_{0}$ which, at the moment, is $\\textbf{unknown}$ to us. What we can say for sure is that $v_{0}$ will be greater than our current circular velocity $v_{c0}$.\n",
    "\n",
    "## How do we find out what $v_{0}$ is?\n",
    "\n",
    "We know that once we enter the hyperbolic trajectory and escape the pull of Earth's gravity, our final velocity $v_{\\infty 0}$ with respect to Earth is given by the equation of energy balance:\n",
    "\n",
    "\\begin{equation}\n",
    "\\frac{v_{0}^2}{2} - \\frac{\\mu}{r_0} = \\frac{v_{\\infty 0}^2}{2}\n",
    "\\end{equation}\n",
    "\n",
    "So our initial energy which is made out of $\\textbf{kinetic}$ energy (due to our speed) and $\\textbf{potential}$ energy (due to Earth's gravity) will transform into purely $\\textbf{kinetic}$ energy once we are sufficiently far away from Earth. Think of it this way: when you are heading towards your train at Cambridge you have a certain $\\textbf{kinetic}$ energy in the form of $v_{0}$ (your walking speed) plus some $\\textbf{potential}$ energy in the form of \"hunger\" (you feel the attraction towards the bakery at the station because of the smell). Once you get on the train and leave the station, you are too far away to smell the bakery anymore (no $\\textbf{potential}$ energy, no \"hunger\") so you only carry $\\textbf{kinetic}$ energy in the form of the train speed $v_{\\infty 0}$.\n",
    "\n",
    "## But what is the speed of the train $v_{\\infty 0}$?\n",
    "\n",
    "In the previous section about $\\textbf{Phase (III)}$ and the Hohmann transfer we have computed that the spacecraft needs to be flying at a velocity $v_p$ with respect to the Sun (around 32 km/s). We can decompose that velocity into two parts: the velocity at which the Earth is orbiting the Sun ($v_{c,p}$ which we already computed for the Hohmann: 29 km/s) and the velocity at which the spacecraft is moving away from the Earth $v_{\\infty 0}$:\n",
    "\n",
    "\\begin{equation}\n",
    "v_p = v_{c,p} + v_{\\infty 0}\n",
    "\\end{equation}\n",
    "\n",
    "This may sound quite complicated but think of this analogy: imagine that Cambridge itself was moving towards London at a speed $v_{c,p}$. You know the speed your train needs to be moving towards London $v_p$ because we have solved $\\textbf{Phase (III)}$ the interplanetary trip. So how fast has the train need to be moving away from Cambridge $v_{\\infty 0}$? If Cambridge station is moving towards London at 5 km/h and the train is moving away from Cambridge at 100 km/h, then the train is moving towards London at 100 + 5 = 105 km/h.\n",
    "\n",
    "Based on that analogy we can compute $v_{\\infty 0}$ at which the spacecraft needs to be moving away from Earth once it has escaped. This is given by the difference between $v_p$ and $v_{c,p}$, which corresponds exactly to the $\\Delta V_{III}$ we needed for the Hohmann transfer.\n",
    "\n",
    "\\begin{equation}\n",
    "v_{\\infty 0} = v_p - v_{c,p} = \\Delta V_{III}\n",
    "\\end{equation}\n",
    "\n",
    "With that $v_{\\infty 0}$ we can know infer what our $v_{0}$ needs to be\n",
    "\n",
    "\\begin{equation}\n",
    "v_{0} = \\sqrt{v_{\\infty 0}^2 + \\frac{2\\mu}{r_0}} = \\sqrt{\\Delta V_{III}^2 + \\frac{2\\mu}{r_0}}\n",
    "\\end{equation}\n",
    "\n",
    "which allows us to calculate the $\\Delta V_{II}$ as\n",
    "\n",
    "\\begin{equation}\n",
    "\\Delta V_{II} = v_{0} - v_{c0} = \\sqrt{\\Delta V_{III}^2 + \\frac{2\\mu}{r_0}} - \\sqrt{\\frac{\\mu}{r_0}}\n",
    "\\end{equation}\n",
    "\n",
    "## Let's look back\n",
    "If you are lost at this point, $\\textbf{DO NOT WORRY!}$. All these subscripts and formulas can be quite daunting, but the important thing here is the $\\textbf{concept}$ behind them. We started with our spacecraft parked around Earth. We burn some fuel such that our velocity is increased by $\\Delta V_{II}$. That changes our initially circular orbit into a hyperbolic orbit which eventually help us escape Earth gravity. At that point, we will be traveling at $v_{\\infty 0}$ with respect to the Earth. Because Earth is already orbiting around the Sun at a speed of $v_{c,p}$, this puts us at a speed $v_p = v_{c,p} + v_{\\infty 0}$ with respect to the Sun. And we have chosen the values such that $v_p$ is exactly the speed we need to enter a transfer orbit towards Mars.\n",
    "\n",
    "## So what is the value of $\\Delta V_{II}$?\n",
    "\n",
    "Let us assume we are parked several hundreds of kilometers above the surface of Earth. Run the Cell below to compute our initial circular orbit $v_{c0}$, our required velocity $v_{0}$ and thus our $\\Delta V_{II}$."
   ]
  },
  {
   "cell_type": "code",
   "execution_count": 6,
   "metadata": {},
   "outputs": [
    {
     "name": "stdout",
     "output_type": "stream",
     "text": [
      "Circular parking orbit at 600 km above Earth\n",
      "Orbital velocity at parking orbit Vc0 = 7.56 [km/s]\n",
      "Required velocity to enter escapte trajectory V0 = 11.09 [km/s]\n",
      "\n",
      "Required DeltaV = 3.53 [km/s]\n"
     ]
    }
   ],
   "source": [
    "h0 = 600 * 1000                                    # Height of initial parking orbit [m]\n",
    "r0 = R_EARTH + h0                                  # Radius of the parking orbit [m]\n",
    "vc0 = np.sqrt(MU_EARTH/r0)                         # Circular velocity at parking orbit [m/s]\n",
    "\n",
    "v_inf0 = dv_hohmann                                # Velocity after escape from Earth [m/s]\n",
    "v0 = np.sqrt(2 * (v_inf0**2/2 + vc0**2))           # Velocity required to enter escape trajectory [m/s]\n",
    "dv_escape = v0 - vc0                               # Delta V required to escape Earth [m/s]\n",
    "\n",
    "print('Circular parking orbit at %.0f km above Earth' %(h0 / 1000))\n",
    "print('Orbital velocity at parking orbit Vc0 = %.2f [km/s]' %(vc0 / 1000))\n",
    "print('Required velocity to enter escapte trajectory V0 = %.2f [km/s]' %(v0/1000))\n",
    "\n",
    "print('\\nRequired DeltaV = %.2f [km/s]' %(dv_escape/1000))"
   ]
  },
  {
   "cell_type": "markdown",
   "metadata": {},
   "source": [
    "For an altitude of $\\textbf{600}$ km, the $\\Delta V_{II}$ should be around $\\textbf{3.53 km/s}$. But we have previously computed that $\\Delta V_{III}$ was around $\\textbf{2.95 km/s}$ (slightly smaller).\n",
    "\n",
    "## So what's going on? Can you think of any reasons why $\\Delta V_{II}$ is larger than $\\Delta V_{III}$?\n",
    "\n",
    "The reason is that $\\Delta V_{III}$ only accounted for a change in velocity from $v_{c,p}$ to $v_{p}$; in other words to accelerate from Earth's circular orbit around the Sun to an elliptical orbit towards Mars. In contrast, $\\Delta V_{II}$ takes into account $\\Delta V_{III}$ plus the fact that we need to escape Earth's gravity before we can head towards Mars. Therefore, in reality we need more fuel than we initially expected.\n",
    "\n",
    "# Phase (IV) - Arrival at Mars\n"
   ]
  },
  {
   "cell_type": "markdown",
   "metadata": {},
   "source": [
    "## Launch windows\n",
    "\n",
    "So far we have not considered neither the relative positions of the planets nor the particular launch date. However, it is very easy to see that those factors matter greatly. As the Earth and Mars orbit the Sun at different orbital speeds, their relative positions change throughout the year. As a result, you can't launch your spacecraft any day you want because by the time you get there, Mars might not be there waiting for you. In fact it could be at the other side of the Sun, millions of kilometers away from you."
   ]
  },
  {
   "cell_type": "code",
   "execution_count": null,
   "metadata": {
    "collapsed": true
   },
   "outputs": [],
   "source": []
  },
  {
   "cell_type": "code",
   "execution_count": null,
   "metadata": {
    "collapsed": true
   },
   "outputs": [],
   "source": []
  },
  {
   "cell_type": "code",
   "execution_count": null,
   "metadata": {
    "collapsed": true
   },
   "outputs": [],
   "source": []
  },
  {
   "cell_type": "code",
   "execution_count": null,
   "metadata": {
    "collapsed": true
   },
   "outputs": [],
   "source": []
  }
 ],
 "metadata": {
  "kernelspec": {
   "display_name": "Python 3",
   "language": "python",
   "name": "python3"
  },
  "language_info": {
   "codemirror_mode": {
    "name": "ipython",
    "version": 3
   },
   "file_extension": ".py",
   "mimetype": "text/x-python",
   "name": "python",
   "nbconvert_exporter": "python",
   "pygments_lexer": "ipython3",
   "version": "3.6.3"
  }
 },
 "nbformat": 4,
 "nbformat_minor": 2
}
