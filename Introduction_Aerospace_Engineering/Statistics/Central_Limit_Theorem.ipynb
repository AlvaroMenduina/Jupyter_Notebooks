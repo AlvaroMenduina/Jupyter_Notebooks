{
 "cells": [
  {
   "cell_type": "markdown",
   "metadata": {},
   "source": [
    "# The Central Limit Theorem\n",
    "The Central Limit Theorem (CLT) is one the fundamental and most profound concepts in the field of Statistics. In this Notebook we will take a closer look at the CLT and its implications. \n",
    "\n",
    "In essence, the CTL tells us that if we have any kind of probability distribution and we independently draw values $x_{i}$ from it to generate $N$ samples $[x_{1}, ..., x_{n}]$, the distribution of the sample mean $S_{k}$\n",
    "\n",
    "\\begin{equation}\n",
    "S_{k}=\\frac{x_{1} + \\dots + x_{n}}{n}\n",
    "\\end{equation}\n",
    "\n",
    "will tend towards a normal (Gaussian) distribution as $n$ grows larger, no matter the shape of the distribution we are drawing our samples from.\n",
    "\n",
    "To illustrate how powerful this theorem is we will look at a very simple example: the rolling of a dice"
   ]
  },
  {
   "cell_type": "markdown",
   "metadata": {},
   "source": [
    "## Rolling dices\n",
    "When we roll a fair dice all outcomes are equally likely; the chances of getting a 1 are the same of getting a 6. Therefore, the rolling of a dice is perfectly described by what we call a Uniform Distribution $\\mathcal{U}(a, b)$.\n",
    "\n",
    "We can easily check that there is nothing \"Gaussian\" in the rolling of a dice by rolling a dice many times and reporting the outcome"
   ]
  },
  {
   "cell_type": "code",
   "execution_count": 1,
   "metadata": {
    "collapsed": true
   },
   "outputs": [],
   "source": [
    "import numpy as np\n",
    "import matplotlib.pyplot as plt\n",
    "import pandas as pd"
   ]
  },
  {
   "cell_type": "code",
   "execution_count": 2,
   "metadata": {},
   "outputs": [
    {
     "name": "stdout",
     "output_type": "stream",
     "text": [
      "First 10 rolls of a dice\n",
      "[1, 5, 3, 4, 1, 4, 2, 2, 3, 5]\n"
     ]
    }
   ],
   "source": [
    "N_rolls = 1000\n",
    "rolls = [np.random.randint(low=1, high=7, size=1)[0] for _ in range(N_rolls)]\n",
    "print('First 10 rolls of a dice')\n",
    "print(rolls[:10])"
   ]
  },
  {
   "cell_type": "markdown",
   "metadata": {},
   "source": [
    "If we tak a look at the histogram of roll it clearly follows a Uniform distribution, with all dice values appearing approximately the same amount of times\n"
   ]
  },
  {
   "cell_type": "code",
   "execution_count": 3,
   "metadata": {},
   "outputs": [
    {
     "data": {
      "image/png": "[encoded data removed]",
      "text/plain": [
       "<matplotlib.figure.Figure at 0x7f094c721898>"
      ]
     },
     "metadata": {},
     "output_type": "display_data"
    }
   ],
   "source": [
    "plt.hist(rolls, align='mid')\n",
    "plt.title('Histogram for %d dice rolls' %N_rolls)\n",
    "plt.show()"
   ]
  },
  {
   "cell_type": "markdown",
   "metadata": {},
   "source": [
    "## Here comes the CLT...\n",
    "Now let's roll $n$ dices to create a sample $S=[x_{1}, \\dots, x_{n}]$ and define the score $s=\\frac{1}{n}\\sum_{i}^{n} x_{i}$ as the mean of all the values in our sample.\n",
    "\n",
    "In other words, if we roll 3 dices and get [1, 4, 5] our score is 10/3 = 3.33\n",
    "\n",
    "We will repeat that procedure many times and register the score for each sample"
   ]
  },
  {
   "cell_type": "code",
   "execution_count": 4,
   "metadata": {
    "collapsed": true
   },
   "outputs": [],
   "source": [
    "def roll_dices(N_dices):\n",
    "    \"\"\" Rolls N_dices once and returns the score \"\"\"\n",
    "    rolls = [np.random.randint(low=1, high=7, size=1)[0] for _ in range(N_dices)]\n",
    "    score = sum(rolls)/N_dices\n",
    "    return score\n",
    "\n",
    "def roll(N_dices, N_trials):\n",
    "    \"\"\" Repeats roll_dices(N_dices) several times: N_trials \"\"\"\n",
    "    trials = ['Roll #%d' %i for i in range(N_trials)]\n",
    "    scores = [roll_dices(N_dices) for _ in range(N_trials)]\n",
    "    return scores, trials"
   ]
  },
  {
   "cell_type": "code",
   "execution_count": 60,
   "metadata": {},
   "outputs": [
    {
     "name": "stdout",
     "output_type": "stream",
     "text": [
      "Score results of rolling 3 dices 1000 times\n"
     ]
    },
    {
     "data": {
      "text/html": [
       "<div>\n",
       "<style>\n",
       "    .dataframe thead tr:only-child th {\n",
       "        text-align: right;\n",
       "    }\n",
       "\n",
       "    .dataframe thead th {\n",
       "        text-align: left;\n",
       "    }\n",
       "\n",
       "    .dataframe tbody tr th {\n",
       "        vertical-align: top;\n",
       "    }\n",
       "</style>\n",
       "<table border=\"1\" class=\"dataframe\">\n",
       "  <thead>\n",
       "    <tr style=\"text-align: right;\">\n",
       "      <th></th>\n",
       "      <th>Roll #0</th>\n",
       "      <th>Roll #1</th>\n",
       "      <th>Roll #2</th>\n",
       "      <th>Roll #3</th>\n",
       "      <th>Roll #4</th>\n",
       "      <th>Roll #5</th>\n",
       "      <th>Roll #6</th>\n",
       "      <th>Roll #7</th>\n",
       "      <th>Roll #8</th>\n",
       "      <th>Roll #9</th>\n",
       "      <th>...</th>\n",
       "      <th>Roll #990</th>\n",
       "      <th>Roll #991</th>\n",
       "      <th>Roll #992</th>\n",
       "      <th>Roll #993</th>\n",
       "      <th>Roll #994</th>\n",
       "      <th>Roll #995</th>\n",
       "      <th>Roll #996</th>\n",
       "      <th>Roll #997</th>\n",
       "      <th>Roll #998</th>\n",
       "      <th>Roll #999</th>\n",
       "    </tr>\n",
       "  </thead>\n",
       "  <tbody>\n",
       "    <tr>\n",
       "      <th>Score</th>\n",
       "      <td>4.0</td>\n",
       "      <td>3.0</td>\n",
       "      <td>5.333333</td>\n",
       "      <td>2.666667</td>\n",
       "      <td>2.666667</td>\n",
       "      <td>1.666667</td>\n",
       "      <td>5.0</td>\n",
       "      <td>2.666667</td>\n",
       "      <td>2.333333</td>\n",
       "      <td>3.333333</td>\n",
       "      <td>...</td>\n",
       "      <td>3.666667</td>\n",
       "      <td>4.0</td>\n",
       "      <td>3.666667</td>\n",
       "      <td>2.666667</td>\n",
       "      <td>3.0</td>\n",
       "      <td>2.333333</td>\n",
       "      <td>5.0</td>\n",
       "      <td>2.666667</td>\n",
       "      <td>2.666667</td>\n",
       "      <td>5.666667</td>\n",
       "    </tr>\n",
       "  </tbody>\n",
       "</table>\n",
       "<p>1 rows × 1000 columns</p>\n",
       "</div>"
      ],
      "text/plain": [
       "       Roll #0  Roll #1   Roll #2   Roll #3   Roll #4   Roll #5  Roll #6  \\\n",
       "Score      4.0      3.0  5.333333  2.666667  2.666667  1.666667      5.0   \n",
       "\n",
       "        Roll #7   Roll #8   Roll #9    ...      Roll #990  Roll #991  \\\n",
       "Score  2.666667  2.333333  3.333333    ...       3.666667        4.0   \n",
       "\n",
       "       Roll #992  Roll #993  Roll #994  Roll #995  Roll #996  Roll #997  \\\n",
       "Score   3.666667   2.666667        3.0   2.333333        5.0   2.666667   \n",
       "\n",
       "       Roll #998  Roll #999  \n",
       "Score   2.666667   5.666667  \n",
       "\n",
       "[1 rows x 1000 columns]"
      ]
     },
     "execution_count": 60,
     "metadata": {},
     "output_type": "execute_result"
    }
   ],
   "source": [
    "N_dices = 3        # We roll N_dices each round\n",
    "N_trials = 1000   # We run the experiment for N_trials rounds\n",
    "\n",
    "scores, trials = roll(N_dices, N_trials)\n",
    "\n",
    "series_scores = pd.Series(data=scores, index=trials)\n",
    "df = pd.DataFrame(series_scores, columns=['Score']).T\n",
    "print('Score results of rolling %d dices %d times' %(N_dices, N_trials))\n",
    "df.head()\n"
   ]
  },
  {
   "cell_type": "code",
   "execution_count": 61,
   "metadata": {},
   "outputs": [
    {
     "data": {
      "image/png": "[encoded data removed]",
      "text/plain": [
       "<matplotlib.figure.Figure at 0x7f0916f11f28>"
      ]
     },
     "metadata": {},
     "output_type": "display_data"
    }
   ],
   "source": [
    "plt.hist(scores)\n",
    "plt.xlabel('Score')\n",
    "plt.xlim([0, 7])\n",
    "plt.title('Histogram of rolling %d dices %d times' %(N_dices, N_trials))\n",
    "plt.show()"
   ]
  },
  {
   "cell_type": "markdown",
   "metadata": {},
   "source": [
    "If we plot the histogram we can see that it resembles a Gaussian distribution. At this point we might think that this is a result of the CLT. However, the truth is that if we run a \"normality test\" on the scores (a test which tells us whether or not a sample comes from a Normal distribution) we will see that in this case it does not pass the test."
   ]
  },
  {
   "cell_type": "code",
   "execution_count": 62,
   "metadata": {},
   "outputs": [
    {
     "name": "stdout",
     "output_type": "stream",
     "text": [
      "p =  1.59482886552e-06\n",
      "\n",
      "The Null hypothesis is REJECTED!\n",
      "Sample does NOT come from a Normal distribution\n"
     ]
    }
   ],
   "source": [
    "import scipy.stats as st\n",
    "\n",
    "def test_if_normal(data):\n",
    "    alpha = 0.05\n",
    "    k2, p = st.mstats.normaltest(data)\n",
    "    print('p = ', p)\n",
    "\n",
    "    if p > alpha:\n",
    "        print('\\nThe Null hypothesis is ACCEPTED')\n",
    "        print('Sample comes from a Normal distribution')\n",
    "    if p < alpha:\n",
    "        print('\\nThe Null hypothesis is REJECTED!')\n",
    "        print('Sample does NOT come from a Normal distribution')\n",
    "    return\n",
    "\n",
    "test_if_normal(scores)"
   ]
  },
  {
   "cell_type": "markdown",
   "metadata": {},
   "source": [
    "## Wait... What's going on?\n",
    "So we ran the experiment for a total of $N=1000$ times... Surely by virtue of the CLT the result must be Gaussian.\n",
    "\n",
    "The trick here is that the CLT tells us the distribution of the sample mean $S_k$ will approach a Normal Distribution when the sample size $n$ grows sufficiently large, not when we draw many $N$ samples.\n",
    "\n",
    "It is the $\\textbf{Sample Size}$ $n$ that matters, not the $\\textbf{Number of Samples}$ $N$!\n",
    "\n",
    "So let's try again with the same number of samples $N$ but with larger sample size $n$ (we roll more dices each round)"
   ]
  },
  {
   "cell_type": "code",
   "execution_count": 63,
   "metadata": {},
   "outputs": [
    {
     "data": {
      "image/png": "[encoded data removed]",
      "text/plain": [
       "<matplotlib.figure.Figure at 0x7f0917217630>"
      ]
     },
     "metadata": {},
     "output_type": "display_data"
    },
    {
     "name": "stdout",
     "output_type": "stream",
     "text": [
      "p =  0.09492332805\n",
      "\n",
      "The Null hypothesis is ACCEPTED\n",
      "Sample comes from a Normal distribution\n"
     ]
    }
   ],
   "source": [
    "N_dices = 30        # We roll N_dices each round\n",
    "N_trials = 1000   # We run the experiment for N_trials rounds\n",
    "\n",
    "scores, trials = roll(N_dices, N_trials)\n",
    "\n",
    "plt.hist(scores)\n",
    "plt.xlabel('Score')\n",
    "plt.title('Histogram of rolling %d dices %d times' %(N_dices, N_trials))\n",
    "plt.xlim([0, 7])\n",
    "plt.show()\n",
    "\n",
    "test_if_normal(scores)"
   ]
  },
  {
   "cell_type": "markdown",
   "metadata": {},
   "source": [
    "We can see that the histogram looks very similar to a Normal distribution, and the normality test confirms our hypothesis. Now we finally understand the subtlety of the Central Limit Theorem"
   ]
  },
  {
   "cell_type": "markdown",
   "metadata": {},
   "source": [
    "## Bringing the Central Limit Theorem to its Limit\n",
    "We have shown the CLT works when applied to the rolling of dices which follow a Uniform Distribution. But does it really apply to all kinds of probability distributions? Maybe there is a secret distribution which refuses to follow the rule of the CLT...\n",
    "\n",
    "To show that this is not the case, we can select a series of probability distributions (I have chosen them from numpy.random because they do not require arguments apart from the $\\textbf{sample size}$). For each of them, we draw samples and compute the score just like before. Finally, we run a normality test\n",
    "\n",
    "Bear in mind that normality tests are not infallible and can sometimes reject the hypothesis even if it is true. If you see a rejection, re-run the cells a couple of times."
   ]
  },
  {
   "cell_type": "code",
   "execution_count": 9,
   "metadata": {
    "collapsed": true
   },
   "outputs": [],
   "source": [
    "r = np.random\n",
    "list_distributions = [r.laplace, r.logistic,\n",
    "                      r.standard_exponential, r.uniform, r.exponential]\n",
    "\n",
    "def crazy_dist(sample_size, N_trials):\n",
    "    \"\"\" \n",
    "    Test whether the CLT holds for a list of different \n",
    "    probability distributions \n",
    "    \"\"\"\n",
    "    for dist in list_distributions:\n",
    "        print('\\nDistribution:')\n",
    "        print(dist)\n",
    "        scores = []\n",
    "        for i in range(N_trials):\n",
    "            sample = dist(size=sample_size)\n",
    "            score = sum(sample)/sample_size\n",
    "            scores.append(score)\n",
    "        test_if_normal(scores)\n",
    "        print('___________________________')\n",
    "    return "
   ]
  },
  {
   "cell_type": "code",
   "execution_count": 10,
   "metadata": {},
   "outputs": [
    {
     "name": "stdout",
     "output_type": "stream",
     "text": [
      "\n",
      "Distribution:\n",
      "<built-in method laplace of mtrand.RandomState object at 0x7f094c065bd0>\n",
      "p =  0.664407148613\n",
      "\n",
      "The Null hypothesis is ACCEPTED\n",
      "Sample comes from a Normal distribution\n",
      "___________________________\n",
      "\n",
      "Distribution:\n",
      "<built-in method logistic of mtrand.RandomState object at 0x7f094c065bd0>\n",
      "p =  0.903094854438\n",
      "\n",
      "The Null hypothesis is ACCEPTED\n",
      "Sample comes from a Normal distribution\n",
      "___________________________\n",
      "\n",
      "Distribution:\n",
      "<built-in method standard_exponential of mtrand.RandomState object at 0x7f094c065bd0>\n",
      "p =  0.68095836034\n",
      "\n",
      "The Null hypothesis is ACCEPTED\n",
      "Sample comes from a Normal distribution\n",
      "___________________________\n",
      "\n",
      "Distribution:\n",
      "<built-in method uniform of mtrand.RandomState object at 0x7f094c065bd0>\n",
      "p =  0.896730309271\n",
      "\n",
      "The Null hypothesis is ACCEPTED\n",
      "Sample comes from a Normal distribution\n",
      "___________________________\n",
      "\n",
      "Distribution:\n",
      "<built-in method exponential of mtrand.RandomState object at 0x7f094c065bd0>\n",
      "p =  0.0695745821351\n",
      "\n",
      "The Null hypothesis is ACCEPTED\n",
      "Sample comes from a Normal distribution\n",
      "___________________________\n"
     ]
    }
   ],
   "source": [
    "crazy_dist(sample_size=50, N_trials=100)"
   ]
  },
  {
   "cell_type": "markdown",
   "metadata": {},
   "source": [
    "## CLT and the Poisson distribution\n",
    "\n",
    "Let's now look at another example of the CLT. Imagine that every morning you commute to work. This is your daily routine: you take the 8:00 train at your local station which arrives at the Central Station at 8:30. But your commute train from Central Station to your workplace leaves at 8:50. Something similar happens on your way home in the evening. This means that twice a day you have 20 min to spare, so you decide to dedicate those extra minutes to proof the Central Limit Theorem (because yes, you are a geek).  \n",
    "\n",
    "While you wait for the train to arrive, you decide to count the buses passing by. According to the schedule, 4 buses are expected to pass by in those 20 min. It's hard to know the probability distribution of the buses because it surely depends on several factors (the level of traffic that day, the weather, unexpected delays caused by a mechanic problem...).\n",
    "\n",
    "So you come up with the following plan:\n",
    "\n",
    "(1) Every day, both in the morning and in the evening you count how many buses pass in front of you in those 20 min.\n",
    "\n",
    "(2) You take the average number of buses on a bi-weekly basis. This means you are averaging 2 weeks worth of data (2 measurement per day, 5 days per week, 2 weeks) which corresponds to 20 measurements ($\\textbf{sample size}$ of 20). \n",
    "\n",
    "(3) After several months you analyse the results to see if the CLT stands"
   ]
  },
  {
   "cell_type": "markdown",
   "metadata": {
    "collapsed": true
   },
   "source": [
    "### Example of your data\n",
    "Let's check an example of the sort of data you will record in a week. We will assume that the buses follow a Poisson distribution:\n",
    "\n",
    "For events with an expected separation $\\lambda$ the Poisson distribution f($k$; $\\lambda$) describes the probability of $k$ events occurring within the observed interval $\\lambda$\n",
    "\n",
    "In this case $\\lambda$ is the expected number of buses to pass by in our 20 min window, and the probability of observing $k$ buses in that interval is given by the Poisson distribution."
   ]
  },
  {
   "cell_type": "code",
   "execution_count": 45,
   "metadata": {},
   "outputs": [
    {
     "name": "stdout",
     "output_type": "stream",
     "text": [
      "On Monday morning you see 5 buses\n",
      "On Monday evening you see 4 buses\n",
      "__________________________________\n",
      "On Tuesday morning you see 7 buses\n",
      "On Tuesday evening you see 6 buses\n",
      "__________________________________\n",
      "On Wednesday morning you see 4 buses\n",
      "On Wednesday evening you see 6 buses\n",
      "__________________________________\n",
      "On Thursday morning you see 4 buses\n",
      "On Thursday evening you see 2 buses\n",
      "__________________________________\n",
      "On Friday morning you see 7 buses\n",
      "On Friday evening you see 3 buses\n",
      "__________________________________\n"
     ]
    }
   ],
   "source": [
    "n_buses = 4\n",
    "n_times = 2\n",
    "n_days = 5\n",
    "buses_example = np.random.poisson(lam=n_buses, size=(n_times, n_days))\n",
    "days = ['Monday', 'Tuesday', 'Wednesday', 'Thursday', 'Friday']\n",
    "times = ['morning', 'evening']\n",
    "\n",
    "for j in range(n_days):\n",
    "    \n",
    "    for i in range(n_times):\n",
    "        day, time = days[j], times[i]\n",
    "        bus = buses_example[i,j]\n",
    "        print('On ' + day + ' ' + time + ' you see %d buses' %bus)\n",
    "    print('__________________________________')"
   ]
  },
  {
   "cell_type": "markdown",
   "metadata": {},
   "source": [
    "So let us generalize our data to 12 months worth of observations, run our analysis plan and see how things look like.\n",
    "\n",
    "Judging by the histogram, the distribution of the averages does not look very Gaussian. That is because we only have 24 averages, but if we run a normality test it tells us with high confidence that the averages follow a gaussian distribution.\n",
    "\n",
    "You can try and run the cell below but with 1000 months worth of observations and you will se that the histogram becomes a Gaussian centered around the average of 4 buses (our initial assumption)"
   ]
  },
  {
   "cell_type": "code",
   "execution_count": 57,
   "metadata": {},
   "outputs": [
    {
     "data": {
      "image/png": "[encoded data removed]",
      "text/plain": [
       "<matplotlib.figure.Figure at 0x7f0917236550>"
      ]
     },
     "metadata": {},
     "output_type": "display_data"
    },
    {
     "name": "stdout",
     "output_type": "stream",
     "text": [
      "p =  0.675612897712\n",
      "\n",
      "The Null hypothesis is ACCEPTED\n",
      "Sample comes from a Normal distribution\n"
     ]
    }
   ],
   "source": [
    "n_samples = 12 * 2     # 12 months * 2 sets of biweekly data per month\n",
    "averages = []\n",
    "for i in range(n_samples):\n",
    "    # Create a 2-week data set\n",
    "    buses = np.random.poisson(lam=n_buses, size=n_times*n_days)\n",
    "    # Compute the average of bus counts\n",
    "    average = np.mean(buses)\n",
    "    # Record the result of that 2-week analysis\n",
    "    averages.append(average)\n",
    "    \n",
    "# Plot the Histogram\n",
    "plt.hist(averages)\n",
    "plt.xlabel('Bi-weekly average of observed buses')\n",
    "plt.ylabel('frequency')\n",
    "plt.xlim([0, 2*n_buses])\n",
    "plt.show()\n",
    "\n",
    "# Check for normality\n",
    "test_if_normal(averages)"
   ]
  },
  {
   "cell_type": "code",
   "execution_count": null,
   "metadata": {},
   "outputs": [],
   "source": []
  },
  {
   "cell_type": "code",
   "execution_count": null,
   "metadata": {
    "collapsed": true
   },
   "outputs": [],
   "source": []
  },
  {
   "cell_type": "code",
   "execution_count": null,
   "metadata": {
    "collapsed": true
   },
   "outputs": [],
   "source": []
  }
 ],
 "metadata": {
  "kernelspec": {
   "display_name": "Python 3",
   "language": "python",
   "name": "python3"
  },
  "language_info": {
   "codemirror_mode": {
    "name": "ipython",
    "version": 3
   },
   "file_extension": ".py",
   "mimetype": "text/x-python",
   "name": "python",
   "nbconvert_exporter": "python",
   "pygments_lexer": "ipython3",
   "version": "3.6.3"
  }
 },
 "nbformat": 4,
 "nbformat_minor": 2
}
