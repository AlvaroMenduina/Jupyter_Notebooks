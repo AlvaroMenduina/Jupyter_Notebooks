{
 "cells": [
  {
   "cell_type": "markdown",
   "metadata": {},
   "source": [
    "# Fourier Optics - The sampling of the PSF"
   ]
  },
  {
   "cell_type": "markdown",
   "metadata": {},
   "source": [
    "The topic of Fourier Optics and the PSF can sometimes be tricky when you use the (discrete) Fast Fourier Transform. Specially if you want to be consistent with your pixel $\\textbf{sampling}$, it is not trivial to know what the scale of your image pixels is. You have to play around with the number of pixels in your array $N$, the size of your pupil aperture $D$, the total size of the whole pupil array $l$ and the wavelength $\\lambda$, plus you have to alternate between the $\\textit{pupil}$ plane and the $\\textit{image}$ plane. \n",
    "\n",
    "Therefore, I have created this Jupyter Notebook for those who always struggle with this stuff (myself included). A great deal of inspiration was taken from this blog post: http://www.strollswithmydog.com/wavefront-to-psf-to-mtf-physical-units/\n",
    "\n",
    "Just to clarify the notation, the $\\textit{pupil}$ coordinates are ($u$, $v$) while the $\\textit{image}$ coordinates are ($x$, $y$). The number of pixels in both pupil and image arrays is $N$, the diameter of the telescope aperture is $D_u$, the pupil array spans a physical length of $l_u > D_u$\n",
    "\n",
    "The main question I want to clarify with this notebook is: \n",
    "\n",
    "#### \"How do need to set up your pupil masks ($N, D_u, l_u$) such that you are sampling the PSF with a certain angular scale $dx$ in mili-arcseconds [mas] (at a wavelength $\\lambda$)\n",
    "\n",
    "For this example we will use the dimensions of the Extremely Large Telescope (ELT), which means $D_u=39$ meters.\n",
    "\n",
    "\n",
    "## First things first. What governs the PSF sampling?\n",
    "\n",
    "Basic Fourier Optics tells us that the ratio between the diameter of our aperture $D_u$ and the physical size of our pupil array $l$ determines the $\\textbf{sampling}$ $du$ of the PSF:\n",
    "\n",
    "\\begin{equation}\n",
    "\\epsilon = \\frac{D_u}{l_u}\n",
    "\\end{equation}\n",
    "\n",
    "The larger $l_u$ is with respect to our telescope diameter $D_u$, the finer the PSF sampling will be. If $l_u \\simeq D_u$ the PSF sampling will be coarse and we will not discern its shape properly.\n",
    "\n",
    "It is important to note that $N$ does not appear in the formula. In other words, for a given ratio $\\epsilon$, changing the total number of pixels $N$ does not modify the PSF sampling, it only affects the overall size of the arrays by $\\textbf{padding}$ the result of the Fourier transform with zeros. So we can mostly forget about $N$, except for the fact that if we use too small a number of pixels our pupil masks will not look circular, but very \"pixelated\" versions of circles.\n",
    "\n",
    "Once we have explained this, we can run through an example of PSF propagation and see where that leads us.\n"
   ]
  },
  {
   "cell_type": "code",
   "execution_count": 145,
   "metadata": {
    "collapsed": true
   },
   "outputs": [],
   "source": [
    "import numpy as np\n",
    "from numpy.fft import fft2, fftshift\n",
    "import matplotlib.pyplot as plt\n",
    "\n",
    "ARCSECS_IN_A_RAD = 206265    # Number of arcseconds in a radian"
   ]
  },
  {
   "cell_type": "code",
   "execution_count": 155,
   "metadata": {
    "collapsed": true
   },
   "outputs": [],
   "source": [
    "N_pix = 1024\n",
    "D = 39.               # ELT diameter: 39 [meters]\n",
    "wave = 1.5e-6         # Wavelength: 1.5 [microns]\n",
    "l_u0 = 5.*D           # Place-holder for the physical length l_u"
   ]
  },
  {
   "cell_type": "markdown",
   "metadata": {},
   "source": [
    "## Pupil sampling $du$\n",
    "\n",
    "Let's start recalling what we know about things in the $\\textit{pupil}$ plane. If our pupil array covers a total physical length of $l_u$ meters, the pupil sampling (\"How many meters does each pixel cover?\") is given by\n",
    "\n",
    "\\begin{equation}\n",
    "du = \\frac{l_u}{N}\n",
    "\\end{equation}\n",
    "\n",
    "Let's try an example with a place-holder $l_u$ of 5 times the diameter of the ELT. "
   ]
  },
  {
   "cell_type": "code",
   "execution_count": 156,
   "metadata": {},
   "outputs": [
    {
     "data": {
      "image/png": "[encoded data removed]",
      "text/plain": [
       "<matplotlib.figure.Figure at 0x7f36ffac40b8>"
      ]
     },
     "metadata": {},
     "output_type": "display_data"
    },
    {
     "name": "stdout",
     "output_type": "stream",
     "text": [
      "Total physical length = 195.0 [m]\n",
      "Number of pixels = 1024 [pixels]\n",
      "Sampling the Pupil with du = 0.190430 [m/pixel]\n"
     ]
    }
   ],
   "source": [
    "# Pupil coordinates (u, v)\n",
    "u_min, u_max = -l_u0/2., l_u0/2.\n",
    "u = np.linspace(u_min, u_max, N_pix)\n",
    "v = u\n",
    "uu, vv = np.meshgrid(u,v)\n",
    "\n",
    "# Pupil mask\n",
    "pupil_mask = uu**2 + vv**2 <= (D/2.)**2\n",
    "\n",
    "plt.figure()\n",
    "plt.imshow(pupil_mask, extent=(u_min, u_max, u_min, u_max))\n",
    "plt.xlabel('u')\n",
    "plt.ylabel('v')\n",
    "plt.show()\n",
    "\n",
    "# Sampling du\n",
    "du = l_u0 / N_pix\n",
    "print('Total physical length = %.1f [m]' %l_u0)\n",
    "print('Number of pixels = %d [pixels]' %N_pix)\n",
    "print('Sampling the Pupil with du = %f [m/pixel]' %du)"
   ]
  },
  {
   "cell_type": "markdown",
   "metadata": {},
   "source": [
    "In this case our pixels in the $\\textit{pupil}$ plane have a physical scale of round 0.20 meters. That is pretty straightforward, but when we move to the $\\textit{image}$ plane, how does that physical scale translate into angular units?\n",
    "\n",
    "## The PSF scale\n",
    "\n",
    "Let us define our PSF according to the formulas of Fourier propagation. Because the arrays are pretty large (1024x1024) and are mostly empty, we will have to zoom in around the PSF and display only a small amount of pixels"
   ]
  },
  {
   "cell_type": "code",
   "execution_count": 157,
   "metadata": {},
   "outputs": [
    {
     "data": {
      "image/png": "[encoded data removed]",
      "text/plain": [
       "<matplotlib.figure.Figure at 0x7f36fe921400>"
      ]
     },
     "metadata": {},
     "output_type": "display_data"
    },
    {
     "data": {
      "image/png": "[encoded data removed]",
      "text/plain": [
       "<matplotlib.figure.Figure at 0x7f36ff4d5fd0>"
      ]
     },
     "metadata": {},
     "output_type": "display_data"
    }
   ],
   "source": [
    "def compute_PSF(pupil_mask, wave):\n",
    "    phase = 2*np.pi * 1j * pupil_mask / wave\n",
    "    pupil_function = pupil_mask * np.exp(phase)\n",
    "    electric_field = fftshift(fft2(pupil_function))\n",
    "    PSF = (np.abs(electric_field))**2\n",
    "    PSF /= PSF.max()\n",
    "    return PSF\n",
    "\n",
    "# Parameters used to zoom into the center of the PSF array\n",
    "PIX = 15\n",
    "min_pix, max_pix = N_pix//2 - PIX, N_pix//2 + PIX + 1\n",
    "pixels = np.linspace(-PIX, PIX, 2*PIX+1).astype(int)\n",
    "\n",
    "# Propagate to Image Plane\n",
    "psf = compute_PSF(pupil_mask, wave)\n",
    "\n",
    "# Show a zoom of the PSF array\n",
    "psf_zoom = psf[min_pix:max_pix, min_pix:max_pix]\n",
    "plt.figure()\n",
    "plt.imshow(psf_zoom, extent=(-PIX, PIX, -PIX, PIX))\n",
    "plt.colorbar()\n",
    "plt.xlabel('Pixels')\n",
    "plt.ylabel('Pixels')\n",
    "plt.title('Normalized PSF')\n",
    "plt.show()\n",
    "\n",
    "# Plot a 1D profile of the PSF\n",
    "psf_1D = psf[N_pix//2, min_pix:max_pix]\n",
    "plt.figure()\n",
    "plt.plot(pixels, psf_1D)\n",
    "plt.scatter(pixels, psf_1D, s=20, color='Black')\n",
    "plt.xlabel('Pixels')\n",
    "plt.title('1D cross-section of the PSF')\n",
    "plt.show()"
   ]
  },
  {
   "cell_type": "markdown",
   "metadata": {},
   "source": [
    "We can see that the PSF is pretty well sampled in this case because the ratio $\\epsilon = D_u/l_u= 0.20$ is fairly small\n",
    "\n",
    "## Image (PSF) sampling $dx$\n",
    "\n",
    "It is clear that after the Fourier propagation to the Image Plane (x, y) our PSF array will cover $N$ pixels in total. But what is the $\\textbf{sampling}$ $dx$ of those pixels in terms of angular distance? In other words:\n",
    "\n",
    "#### For a given $l_u$ and $D_u$ what is the pixel scale in mili-arcseconds (mas) in the image plane?\n",
    "\n",
    "The formula for the pixel scale $dx$ [m] is given below including the dependency on the focal length $f$ of the telescope:\n",
    "\n",
    "\\begin{equation}\n",
    "dx = \\frac{\\lambda \\cdot f}{l_u}\n",
    "\\end{equation}\n",
    "\n",
    "In our case, we are interested in neither the scale in meters nor the focal length, because what we want is the scale $dx$ in $\\textbf{angular}$ units (mili-arcseconds) so we can forget about the $f$ in the formula. According to that, we can derive our current pixel scale"
   ]
  },
  {
   "cell_type": "code",
   "execution_count": 158,
   "metadata": {},
   "outputs": [
    {
     "name": "stdout",
     "output_type": "stream",
     "text": [
      "For a physical length = 195.0 [m]\n",
      "With a diameter = 39.0 [m]\n",
      "At a wavelength of = 1.5 [microns]\n",
      "Each pixel covers = 1.59 [mas]\n"
     ]
    }
   ],
   "source": [
    "# Image sampling dx\n",
    "dx_rad = wave / l_u0    # dx in [rad]\n",
    "dx_mas = dx_rad * ARCSECS_IN_A_RAD *1000\n",
    "\n",
    "print('For a physical length = %.1f [m]' %l_u0)\n",
    "print('With a diameter = %.1f [m]' %D)\n",
    "print('At a wavelength of = %.1f [microns]' %(1e6*wave))\n",
    "print('Each pixel covers = %.2f [mas]' %dx_mas)"
   ]
  },
  {
   "cell_type": "markdown",
   "metadata": {},
   "source": [
    "So apparently, our pixels in the $\\textit{image}$ plane cover slightly over 1 and a half mili-arcseconds. First of all, let's check if our results are consistent. According to diffraction theory, the first 0 of the PSF happens at:\n",
    "\n",
    "\\begin{equation}\n",
    "1.22 \\frac{\\lambda}{D_u} [rad]\n",
    "\\end{equation}\n",
    "\n",
    "This means that for the ELT ($D_u = 39$ m), at a wavelength of 1.5 microns, the distance between the peak of the PSF and the first zero is:"
   ]
  },
  {
   "cell_type": "code",
   "execution_count": 159,
   "metadata": {},
   "outputs": [
    {
     "name": "stdout",
     "output_type": "stream",
     "text": [
      "The Airy distance for the ELT is 9.68 [mas]\n"
     ]
    }
   ],
   "source": [
    "airy_distance = 1.22 * wave / D     #[rad]\n",
    "airy_distance_mas = airy_distance * ARCSECS_IN_A_RAD * 1000\n",
    "\n",
    "print('The Airy distance for the ELT is %.2f [mas]' %airy_distance_mas)\n"
   ]
  },
  {
   "cell_type": "markdown",
   "metadata": {},
   "source": [
    "So around 10 mili-arcseconds.\n",
    "According to our previous results: our pixels have a certain $\\textbf{scale}$ (in mas) and we can count $\\textbf{how many pixels}$ does the Airy ring cover from our PSF plot. Combining those two values we get a result that's pretty much in accordance with the theoretical value that we derived above."
   ]
  },
  {
   "cell_type": "code",
   "execution_count": 151,
   "metadata": {},
   "outputs": [
    {
     "name": "stdout",
     "output_type": "stream",
     "text": [
      "The Airy pattern should cover 9.52 [mas]\n"
     ]
    }
   ],
   "source": [
    "pixels_in_Airy = 6    # Judged from the PSF plot\n",
    "airy_covers = pixels_in_Airy * dx_mas\n",
    "print('The Airy pattern should cover %.2f [mas]' %airy_covers)"
   ]
  },
  {
   "cell_type": "markdown",
   "metadata": {},
   "source": [
    "This confirms that the way we are computing the pixel scale is correct but it does not answer our main question...\n",
    "\n",
    "## When you want to fix the Pixel scale\n",
    "\n",
    "For the analysis above we used a place-holder value for the physical length $l_u$ and worked out what the pixel scale is in mili-arcseconds. But what if we have a prescribed pixel $\\textbf{scale}$ that we want to achieve. In that case, the physical length $l_u$ is an unknown parameter that we need to compute\n",
    "\n",
    "\\begin{equation}\n",
    "l_u = \\frac{\\lambda}{dx}\n",
    "\\end{equation}\n",
    "\n",
    "In this case, for $\\textbf{4-mas}$ pixels, the physical length $l_u$ of our pupil arrays is around 77"
   ]
  },
  {
   "cell_type": "code",
   "execution_count": 160,
   "metadata": {},
   "outputs": [
    {
     "name": "stdout",
     "output_type": "stream",
     "text": [
      "For a fixed Pixel Scale of 4 [mas/pixel], the required length l = 77.35 [m]\n",
      "1.98 times the ELT diameter\n"
     ]
    }
   ],
   "source": [
    "spaxel_scale = 4.     # 4 mili-arcseconds per pixels\n",
    "spaxel_rad = spaxel_scale / 1000 / ARCSECS_IN_A_RAD\n",
    "l = wave / spaxel_rad\n",
    "\n",
    "print('For a fixed Pixel Scale of %d [mas/pixel], the required length l = %.2f [m]' %(spaxel_scale, l))\n",
    "print('%.2f times the ELT diameter' %(l/D))"
   ]
  },
  {
   "cell_type": "markdown",
   "metadata": {},
   "source": [
    "Using that value, we can now re-define our pupil arrays and repeat the calculations to see how the PSF looks like when we sample it with 4-mas pixels"
   ]
  },
  {
   "cell_type": "code",
   "execution_count": 161,
   "metadata": {},
   "outputs": [
    {
     "data": {
      "image/png": "[encoded data removed]",
      "text/plain": [
       "<matplotlib.figure.Figure at 0x7f36fea0e6d8>"
      ]
     },
     "metadata": {},
     "output_type": "display_data"
    }
   ],
   "source": [
    "# Pupil coordinates (u, v)\n",
    "u_min, u_max = -l/2., l/2.\n",
    "u = np.linspace(u_min, u_max, N_pix)\n",
    "v = u\n",
    "uu, vv = np.meshgrid(u,v)\n",
    "\n",
    "# Pupil mask\n",
    "new_pupil_mask = uu**2 + vv**2 <= (D/2.)**2\n",
    "\n",
    "plt.figure()\n",
    "plt.imshow(new_pupil_mask, extent=(u_min, u_max, u_min, u_max))\n",
    "plt.xlabel('u')\n",
    "plt.ylabel('v')\n",
    "plt.title('ELT pupil mask for %d [mas] pixels' %spaxel_scale)\n",
    "plt.show()\n",
    "\n",
    "\n"
   ]
  },
  {
   "cell_type": "code",
   "execution_count": 162,
   "metadata": {},
   "outputs": [
    {
     "data": {
      "image/png": "[encoded data removed]",
      "text/plain": [
       "<matplotlib.figure.Figure at 0x7f36ff449588>"
      ]
     },
     "metadata": {},
     "output_type": "display_data"
    },
    {
     "data": {
      "image/png": "[encoded data removed]",
      "text/plain": [
       "<matplotlib.figure.Figure at 0x7f36ffba0828>"
      ]
     },
     "metadata": {},
     "output_type": "display_data"
    }
   ],
   "source": [
    "PIX = 5\n",
    "min_pix, max_pix = N_pix//2 - PIX, N_pix//2 + PIX + 1\n",
    "new_pixels = np.linspace(-PIX, PIX, 2*PIX+1).astype(int)\n",
    "\n",
    "# Propagate to Image Plane\n",
    "new_psf = compute_PSF(new_pupil_mask, wave)\n",
    "\n",
    "# Show a zoom of the PSF array\n",
    "psf_zoom = new_psf[min_pix:max_pix, min_pix:max_pix]\n",
    "plt.figure()\n",
    "plt.imshow(psf_zoom, extent=(-PIX, PIX, -PIX, PIX))\n",
    "plt.colorbar()\n",
    "plt.xlabel('Pixels')\n",
    "plt.ylabel('Pixels')\n",
    "plt.title('Normalized PSF')\n",
    "plt.show()\n",
    "\n",
    "rescaled_pixels = pixels * dx_mas / spaxel_scale\n",
    "\n",
    "# Plot a 1D profile of the PSF\n",
    "new_psf_1D = new_psf[N_pix//2, min_pix:max_pix]\n",
    "plt.figure()\n",
    "plt.plot(rescaled_pixels, psf_1D, linestyle='--', label='True PSF')\n",
    "plt.plot(new_pixels, new_psf_1D, color='Black', label='%d [mas] pixels' %spaxel_scale)\n",
    "plt.scatter(new_pixels, new_psf_1D, s=20, color='Black')\n",
    "plt.xlabel('Pixels')\n",
    "plt.legend()\n",
    "# plt.ylim([0, 1.2])\n",
    "plt.title('1D cross-section of the PSF')\n",
    "plt.show()"
   ]
  },
  {
   "cell_type": "markdown",
   "metadata": {},
   "source": [
    "## Conclusions\n",
    "\n",
    "We can clearly see that in this case, as our pixels occupy 4 mas, we need around 2.5 pixels to cover the distance from the peak of the PSF to the first zero, which is consistent with the idea that at this wavelength the PSF spans 10 mas"
   ]
  },
  {
   "cell_type": "code",
   "execution_count": null,
   "metadata": {
    "collapsed": true
   },
   "outputs": [],
   "source": []
  },
  {
   "cell_type": "code",
   "execution_count": null,
   "metadata": {
    "collapsed": true
   },
   "outputs": [],
   "source": []
  }
 ],
 "metadata": {
  "kernelspec": {
   "display_name": "Python 3",
   "language": "python",
   "name": "python3"
  },
  "language_info": {
   "codemirror_mode": {
    "name": "ipython",
    "version": 3
   },
   "file_extension": ".py",
   "mimetype": "text/x-python",
   "name": "python",
   "nbconvert_exporter": "python",
   "pygments_lexer": "ipython3",
   "version": "3.6.3"
  }
 },
 "nbformat": 4,
 "nbformat_minor": 2
}
