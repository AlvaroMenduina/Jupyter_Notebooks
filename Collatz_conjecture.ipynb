{
 "cells": [
  {
   "cell_type": "markdown",
   "metadata": {},
   "source": [
    "# Collatz conjecture - Problem 14 - Project Euler"
   ]
  },
  {
   "cell_type": "markdown",
   "metadata": {},
   "source": [
    "Explanation of the conjecture\n",
    "Which starting point n (less than 1 million) produces the longest Collatz chain?"
   ]
  },
  {
   "cell_type": "markdown",
   "metadata": {},
   "source": [
    "\\begin{equation}\n",
    "if \\quad n \\% 2 = 0\n",
    "\\quad n = \\frac{n}{2}\n",
    "\\end{equation}\n",
    "\n",
    "\\begin{equation}\n",
    "if \\quad n \\% 2 \\neq 0\n",
    "\\quad n = 3n + 1\n",
    "\\end{equation}"
   ]
  },
  {
   "cell_type": "markdown",
   "metadata": {},
   "source": [
    "## CPU Python implementation"
   ]
  },
  {
   "cell_type": "code",
   "execution_count": 1,
   "metadata": {
    "collapsed": true
   },
   "outputs": [],
   "source": [
    "import numpy as np\n",
    "\n",
    "class Collatz(object):\n",
    "    \" Computes the length of the Collatz chain for all starting points less than N \"\n",
    "    def __init__(self, N):\n",
    "        self.N = N\n",
    "        self.starts = np.arange(1, N)\n",
    "        self.lengths = []\n",
    "        self.max_chain = 1\n",
    "\n",
    "    def collatz_sequence(self, n):\n",
    "        if n%2 == 0:\n",
    "            return n/2\n",
    "        else:\n",
    "            return 3*n + 1\n",
    "\n",
    "    def length_sequence(self, n):\n",
    "        \" Calculates the length of the Collatz chain for a given n\"\n",
    "        counter = 0\n",
    "        while n != 1:\n",
    "            n = self.collatz_sequence(n)\n",
    "            counter += 1\n",
    "        return counter\n",
    "\n",
    "    def longest_chain(self):\n",
    "        i_arg = np.argsort(self.lengths)\n",
    "        self.max_chain = self.lengths[i_arg[-1]]\n",
    "        \n",
    "        self.max_start = self.starts[i_arg[-1]]\n",
    "        \n",
    "\n",
    "    def __call__(self):\n",
    "        for n in self.starts:\n",
    "            # Computes the lengths sequentially for all starting points n = [1, ..., N]\n",
    "            length = self.length_sequence(n)\n",
    "            self.lengths.append(length)\n",
    "        self.lengths = np.array(self.lengths)\n",
    "\n",
    "        self.longest_chain()"
   ]
  },
  {
   "cell_type": "code",
   "execution_count": 2,
   "metadata": {},
   "outputs": [
    {
     "name": "stdout",
     "output_type": "stream",
     "text": [
      "Longest Collatz chain for n < 100000 : 350\n",
      "For a starting point: 77031\n",
      "CPU Python code took 8.633451 seconds\n"
     ]
    }
   ],
   "source": [
    "from time import time as timer\n",
    "Nmax = 100000\n",
    "collatz = Collatz(N=Nmax)\n",
    "start_cpu = timer()\n",
    "collatz()\n",
    "end_cpu = timer()\n",
    "speed_cpu = end_cpu - start_cpu\n",
    "print('Longest Collatz chain for n < %d :' %collatz.N, collatz.max_chain)\n",
    "print('For a starting point: %d' %collatz.max_start)\n",
    "print('CPU Python code took %f seconds' %speed_cpu)"
   ]
  },
  {
   "cell_type": "code",
   "execution_count": null,
   "metadata": {
    "collapsed": true
   },
   "outputs": [],
   "source": []
  },
  {
   "cell_type": "markdown",
   "metadata": {},
   "source": [
    "# GPU PyCUDA implementation"
   ]
  },
  {
   "cell_type": "code",
   "execution_count": 3,
   "metadata": {},
   "outputs": [
    {
     "ename": "ModuleNotFoundError",
     "evalue": "No module named 'pycuda'",
     "traceback": [
      "\u001b[0;31m---------------------------------------------------------------------------\u001b[0m",
      "\u001b[0;31mModuleNotFoundError\u001b[0m                       Traceback (most recent call last)",
      "\u001b[0;32m<ipython-input-3-07ec2fc513d0>\u001b[0m in \u001b[0;36m<module>\u001b[0;34m()\u001b[0m\n\u001b[0;32m----> 1\u001b[0;31m \u001b[0;32mimport\u001b[0m \u001b[0mpycuda\u001b[0m\u001b[0;34m.\u001b[0m\u001b[0mautoinit\u001b[0m\u001b[0;34m\u001b[0m\u001b[0m\n\u001b[0m\u001b[1;32m      2\u001b[0m \u001b[0;32mimport\u001b[0m \u001b[0mpycuda\u001b[0m\u001b[0;34m.\u001b[0m\u001b[0mdriver\u001b[0m \u001b[0;32mas\u001b[0m \u001b[0mdrv\u001b[0m\u001b[0;34m\u001b[0m\u001b[0m\n\u001b[1;32m      3\u001b[0m \u001b[0;32mimport\u001b[0m \u001b[0mpycuda\u001b[0m\u001b[0;34m.\u001b[0m\u001b[0mgpuarray\u001b[0m \u001b[0;32mas\u001b[0m \u001b[0mgpuarray\u001b[0m\u001b[0;34m\u001b[0m\u001b[0m\n\u001b[1;32m      4\u001b[0m \u001b[0;32mfrom\u001b[0m \u001b[0mpycuda\u001b[0m\u001b[0;34m.\u001b[0m\u001b[0mcompiler\u001b[0m \u001b[0;32mimport\u001b[0m \u001b[0mSourceModule\u001b[0m\u001b[0;34m\u001b[0m\u001b[0m\n\u001b[1;32m      5\u001b[0m \u001b[0;34m\u001b[0m\u001b[0m\n",
      "\u001b[0;31mModuleNotFoundError\u001b[0m: No module named 'pycuda'"
     ],
     "output_type": "error"
    }
   ],
   "source": [
    "import pycuda.autoinit\n",
    "import pycuda.driver as drv\n",
    "import pycuda.gpuarray as gpuarray\n",
    "from pycuda.compiler import SourceModule\n",
    "\n",
    "mod = SourceModule(\"\"\"\n",
    "__global__ void collatz (int *n){\n",
    "const int i = blockIdx.x * blockDim.x * blockDim.y + threadIdx.y * blockDim.x + threadIdx.x;\n",
    "\n",
    "int m = n[i];\n",
    "int counter = 0;\n",
    "\n",
    "while (m > 1){\n",
    "    if (m % 2 == 0){\n",
    "        m = m / 2;\n",
    "    }\n",
    "    else {\n",
    "        m = 3*m + 1; \n",
    "    }\n",
    "    counter += 1;\n",
    "}\n",
    "n[i] = counter;\n",
    "}\n",
    "\"\"\")\n",
    "\n",
    "collatz_gpu = mod.get_function(\"collatz\")"
   ]
  },
  {
   "cell_type": "code",
   "execution_count": 4,
   "metadata": {},
   "outputs": [
    {
     "ename": "NameError",
     "evalue": "name 'drv' is not defined",
     "traceback": [
      "\u001b[0;31m---------------------------------------------------------------------------\u001b[0m",
      "\u001b[0;31mNameError\u001b[0m                                 Traceback (most recent call last)",
      "\u001b[0;32m<ipython-input-4-4b426fedd4f1>\u001b[0m in \u001b[0;36m<module>\u001b[0;34m()\u001b[0m\n\u001b[1;32m      4\u001b[0m \u001b[0;34m\u001b[0m\u001b[0m\n\u001b[1;32m      5\u001b[0m \u001b[0;31m# Allocate GPU memory\u001b[0m\u001b[0;34m\u001b[0m\u001b[0;34m\u001b[0m\u001b[0m\n\u001b[0;32m----> 6\u001b[0;31m \u001b[0mn_gpu\u001b[0m \u001b[0;34m=\u001b[0m \u001b[0mdrv\u001b[0m\u001b[0;34m.\u001b[0m\u001b[0mmem_alloc\u001b[0m\u001b[0;34m(\u001b[0m\u001b[0mn\u001b[0m\u001b[0;34m.\u001b[0m\u001b[0mnbytes\u001b[0m\u001b[0;34m)\u001b[0m\u001b[0;34m\u001b[0m\u001b[0m\n\u001b[0m\u001b[1;32m      7\u001b[0m \u001b[0;34m\u001b[0m\u001b[0m\n\u001b[1;32m      8\u001b[0m \u001b[0;31m# Transfer to GPU\u001b[0m\u001b[0;34m\u001b[0m\u001b[0;34m\u001b[0m\u001b[0m\n",
      "\u001b[0;31mNameError\u001b[0m: name 'drv' is not defined"
     ],
     "output_type": "error"
    }
   ],
   "source": [
    "n = np.arange(1, Nmax).astype(np.int32)\n",
    "nn = n.copy()\n",
    "start_gpu = timer()\n",
    "\n",
    "# Allocate GPU memory\n",
    "n_gpu = drv.mem_alloc(n.nbytes)\n",
    "\n",
    "# Transfer to GPU\n",
    "drv.memcpy_htod(n_gpu, nn)\n",
    "\n",
    "# Select the amount of blocks - DEVICE DEPENDENT!!\n",
    "N = n.shape[0]\n",
    "if N <= 1024:\n",
    "    Nblocks = N\n",
    "    Ngrid = 1\n",
    "else:\n",
    "    Nblocks = 1024\n",
    "    Ngrid = int(N/Nblocks)\n",
    "    if (N % Nblocks) != 0:\n",
    "        Ngrid += 1\n",
    "\n",
    "# Kernel call\n",
    "collatz_gpu(n_gpu, block=(Nblocks,1,1), grid=(Ngrid,1))\n",
    "\n",
    "# Transfer back to CPU\n",
    "drv.memcpy_dtoh(nn, n_gpu)\n",
    "\n",
    "# Free GPU memory\n",
    "n_gpu.free()\n",
    "end_gpu = timer()\n",
    "speed_gpu = end_gpu - start_gpu\n",
    "\n",
    "# Check results with the CPU version\n",
    "err = collatz.lengths - nn\n",
    "print('CPU - GPU discrepancy: %f' %(np.mean(err**2)))\n",
    "print('GPU PyCUDA code took %f seconds' %speed_gpu)\n",
    "ratio = speed_cpu / speed_gpu\n",
    "print('%d times faster than CPU Python' %ratio)"
   ]
  },
  {
   "cell_type": "code",
   "execution_count": null,
   "metadata": {
    "collapsed": true
   },
   "outputs": [],
   "source": [
    "\n"
   ]
  },
  {
   "cell_type": "code",
   "execution_count": null,
   "metadata": {
    "collapsed": true
   },
   "outputs": [],
   "source": []
  },
  {
   "cell_type": "code",
   "execution_count": null,
   "metadata": {
    "collapsed": true
   },
   "outputs": [],
   "source": []
  },
  {
   "cell_type": "code",
   "execution_count": null,
   "metadata": {
    "collapsed": true
   },
   "outputs": [],
   "source": []
  },
  {
   "cell_type": "code",
   "execution_count": null,
   "metadata": {
    "collapsed": true
   },
   "outputs": [],
   "source": []
  }
 ],
 "metadata": {
  "kernelspec": {
   "display_name": "Python 3",
   "language": "python",
   "name": "python3"
  },
  "language_info": {
   "codemirror_mode": {
    "name": "ipython",
    "version": 3
   },
   "file_extension": ".py",
   "mimetype": "text/x-python",
   "name": "python",
   "nbconvert_exporter": "python",
   "pygments_lexer": "ipython3",
   "version": "3.6.3"
  }
 },
 "nbformat": 4,
 "nbformat_minor": 2
}
