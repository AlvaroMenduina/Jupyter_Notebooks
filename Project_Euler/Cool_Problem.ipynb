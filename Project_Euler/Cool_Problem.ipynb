{
 "cells": [
  {
   "cell_type": "markdown",
   "metadata": {},
   "source": [
    "# Unsolved problems 1978\n",
    "\n",
    "Here is an interesting problem that I show in an old publication of unsolved problems from 1978:\n",
    "\n",
    "$\\textit{If $a$, $b$, $c$ and $d$ are positive numbers, prove that:}$\n",
    "\n",
    "\\begin{equation}\n",
    "\\frac{a}{b+c} + \\frac{b}{c+d} + \\frac{c}{d+a} + \\frac{d}{a+b} \\ge 2\n",
    "\\end{equation}\n",
    "\n",
    "$\\textit{When does the equality hold?}$\n",
    "\n",
    "Source:\n",
    "http://www.jstor.org/stable/2974481"
   ]
  },
  {
   "cell_type": "markdown",
   "metadata": {},
   "source": [
    "## Brute force approach to try an understand what's going on"
   ]
  },
  {
   "cell_type": "code",
   "execution_count": 1,
   "metadata": {
    "collapsed": true
   },
   "outputs": [],
   "source": [
    "import numpy as np\n",
    "import matplotlib.pyplot as plt"
   ]
  },
  {
   "cell_type": "code",
   "execution_count": 2,
   "metadata": {
    "collapsed": true
   },
   "outputs": [],
   "source": [
    "def function(a, b, c, d):\n",
    "    \n",
    "    f1 = a / (b + c)\n",
    "    f2 = b / (c + d)\n",
    "    f3 = c / (d + a)\n",
    "    f4 = d / (a + b)\n",
    "    \n",
    "    return f1 + f2 + f3 + f4"
   ]
  },
  {
   "cell_type": "markdown",
   "metadata": {},
   "source": [
    "Let's check for $a$ and $b$ from 1 to 10, while keeping $c=d=1$"
   ]
  },
  {
   "cell_type": "code",
   "execution_count": 16,
   "metadata": {
    "collapsed": true
   },
   "outputs": [],
   "source": [
    "a_max = 10\n",
    "c = 1\n",
    "d = 1\n",
    "a = [i for i in range(1, a_max)]\n",
    "aa, bb = np.meshgrid(a, a)\n",
    "\n",
    "result = function(aa, bb, c=c, d=d)"
   ]
  },
  {
   "cell_type": "code",
   "execution_count": 18,
   "metadata": {},
   "outputs": [
    {
     "data": {
      "image/png": "[encoded data removed]",
      "text/plain": [
       "<matplotlib.figure.Figure at 0x7f686d799a90>"
      ]
     },
     "metadata": {},
     "output_type": "display_data"
    }
   ],
   "source": [
    "extends = [1, a_max, 1, a_max]\n",
    "plt.imshow(result, origin='lower', extent=extends)\n",
    "plt.colorbar()\n",
    "plt.xlabel('a')\n",
    "plt.ylabel('b')\n",
    "plt.title('a, b = [1, %d], c = %d, d = %d' %(a_max, c, d))\n",
    "plt.show()"
   ]
  },
  {
   "cell_type": "markdown",
   "metadata": {},
   "source": [
    "## Influence of $c$\n",
    "What's the difference when we increase $c$?\n",
    "It seems that changing $c$ keeps the minimum at $b=1$ but displaces the $a_{min}$ towards higher values, such that $a_{min}=c$"
   ]
  },
  {
   "cell_type": "code",
   "execution_count": 51,
   "metadata": {},
   "outputs": [
    {
     "data": {
      "image/png": "[encoded data removed]",
      "text/plain": [
       "<matplotlib.figure.Figure at 0x7f686ba6c550>"
      ]
     },
     "metadata": {},
     "output_type": "display_data"
    }
   ],
   "source": [
    "new_c1 = 2\n",
    "new_c2 = 5\n",
    "result_1 = function(aa, bb, c=new_c1, d=d)\n",
    "result_2 = function(aa, bb, c=new_c2, d=d)\n",
    "\n",
    "fig = plt.figure(figsize=(10,3))\n",
    "ax1 = fig.add_subplot(121)\n",
    "\n",
    "ax1.imshow(result_1, origin='lower', extent=extends)\n",
    "plt.xlabel('a')\n",
    "plt.ylabel('b')\n",
    "plt.title('a, b = [1, %d], c = %d, d = %d' %(a_max, new_c1, d))\n",
    "\n",
    "ax2 = fig.add_subplot(122)\n",
    "ax2.imshow(result_2, origin='lower', extent=extends)\n",
    "plt.xlabel('a')\n",
    "plt.ylabel('b')\n",
    "plt.title('a, b = [1, %d], c = %d, d = %d' %(a_max, new_c2, d))\n",
    "\n",
    "plt.show()"
   ]
  },
  {
   "cell_type": "markdown",
   "metadata": {},
   "source": [
    "## Influence of $d$\n",
    "\n",
    "One could quickly guess that something analogous happens with $b_{min}$ when we start changing $d$\n",
    "\n",
    "So it seems that the equality holds when $a=c$ and $b=d$"
   ]
  },
  {
   "cell_type": "code",
   "execution_count": 52,
   "metadata": {},
   "outputs": [
    {
     "data": {
      "image/png": "[encoded data removed]",
      "text/plain": [
       "<matplotlib.figure.Figure at 0x7f686d7a5e80>"
      ]
     },
     "metadata": {},
     "output_type": "display_data"
    }
   ],
   "source": [
    "new_d1 = 2\n",
    "new_d2 = 5\n",
    "result_1 = function(aa, bb, c=1, d=new_d1)\n",
    "result_2 = function(aa, bb, c=1, d=new_d2)\n",
    "\n",
    "fig = plt.figure(figsize=(10,3))\n",
    "ax1 = fig.add_subplot(121)\n",
    "\n",
    "ax1.imshow(result_1, origin='lower', extent=extends)\n",
    "plt.xlabel('a')\n",
    "plt.ylabel('b')\n",
    "plt.title('a, b = [1, %d], c = %d, d = %d' %(a_max, 1, new_d1))\n",
    "\n",
    "ax2 = fig.add_subplot(122)\n",
    "ax2.imshow(result_2, origin='lower', extent=extends)\n",
    "plt.xlabel('a')\n",
    "plt.ylabel('b')\n",
    "plt.title('a, b = [1, %d], c = %d, d = %d' %(a_max, 1, new_d2))\n",
    "\n",
    "plt.show()"
   ]
  },
  {
   "cell_type": "code",
   "execution_count": null,
   "metadata": {
    "collapsed": true
   },
   "outputs": [],
   "source": []
  }
 ],
 "metadata": {
  "kernelspec": {
   "display_name": "Python 3",
   "language": "python",
   "name": "python3"
  },
  "language_info": {
   "codemirror_mode": {
    "name": "ipython",
    "version": 3
   },
   "file_extension": ".py",
   "mimetype": "text/x-python",
   "name": "python",
   "nbconvert_exporter": "python",
   "pygments_lexer": "ipython3",
   "version": "3.6.3"
  }
 },
 "nbformat": 4,
 "nbformat_minor": 2
}
