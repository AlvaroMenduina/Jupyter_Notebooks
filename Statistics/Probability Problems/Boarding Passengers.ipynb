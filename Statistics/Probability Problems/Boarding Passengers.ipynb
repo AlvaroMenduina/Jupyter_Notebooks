{
 "cells": [
  {
   "cell_type": "markdown",
   "metadata": {},
   "source": [
    "## Boarding Passengers\n"
   ]
  },
  {
   "cell_type": "code",
   "execution_count": 3,
   "metadata": {
    "collapsed": true
   },
   "outputs": [],
   "source": [
    "import numpy as np\n",
    "import matplotlib.pyplot as plt\n",
    "\n",
    "def arrange_seats(N_seats):\n",
    "    \"\"\"\n",
    "    Simulate a run of boarding passengers\n",
    "    where the first passengers forget his/her boarding pass\n",
    "    and chooses a seat at random.\n",
    "    \n",
    "    The remaining passengers will choose their seat (if available),\n",
    "    if not they will choose a random empty seat.\n",
    "    \n",
    "    We want to calculate the probability that the last person\n",
    "    to board gets their assigned seat.\n",
    "    \"\"\"\n",
    "    \n",
    "    # Number people \n",
    "    people = np.arange(0, N_seats)\n",
    "\n",
    "    # randomly shuffle them\n",
    "    np.random.shuffle(people)\n",
    "    available_seats = list(people)\n",
    "    first = people[0]\n",
    "    first_chooses = np.random.choice(available_seats, size=1)[0]\n",
    "#     print(\"Person #%d chooses Seat #%d\" % (first, first_chooses))\n",
    "    \n",
    "    # Remove that choice from the list of available seats\n",
    "    available_seats.remove(first_chooses)\n",
    "    people_left = list(people).copy()\n",
    "    people_left.remove(first)\n",
    "#     print(\"Available seats: \", available_seats)\n",
    "#     print(\"People left: \", people_left)\n",
    "    \n",
    "    # Board the remaining passengers except the last\n",
    "    for person in people[1:-1]:\n",
    "        \n",
    "        # Their seat is empty. Occupy it\n",
    "        if person in available_seats:\n",
    "#             print(\"\\nPerson #%d chooses Seat #%d\" % (person, person))\n",
    "            available_seats.remove(person)\n",
    "            people_left.remove(person)\n",
    "#             print(\"Available seats: \", available_seats)\n",
    "#             print(\"People left: \", people_left)\n",
    "\n",
    "        # Their seat is not empty. Choose a random one\n",
    "        else:\n",
    "            chooses = np.random.choice(available_seats, size=1)[0]\n",
    "#             print(\"\\nSeat #%d not available, Person #%d chooses Seat #%d\" % (person, person, chooses))\n",
    "            available_seats.remove(chooses)\n",
    "            people_left.remove(person)\n",
    "#             print(\"Available seats: \", available_seats)\n",
    "#             print(\"People left: \", people_left)\n",
    "\n",
    "    # Finally check if the last person's seat is free\n",
    "    if people_left[0] == available_seats[0]:\n",
    "        return 1\n",
    "    else:\n",
    "        return 0"
   ]
  },
  {
   "cell_type": "markdown",
   "metadata": {},
   "source": [
    "Let's run this many times"
   ]
  },
  {
   "cell_type": "code",
   "execution_count": 7,
   "metadata": {},
   "outputs": [
    {
     "name": "stdout",
     "output_type": "stream",
     "text": [
      "486 / 1000 [0.49 per cent]\n"
     ]
    }
   ],
   "source": [
    "N_seats = 64\n",
    "N_trials = 1000\n",
    "total = 0\n",
    "for k in range(N_trials):\n",
    "    total += arrange_seats(N_seats)\n",
    "    \n",
    "pcent = total / N_trials\n",
    "\n",
    "print(\"%d / %d [%.2f per cent]\" % (total, N_trials, pcent))"
   ]
  },
  {
   "cell_type": "code",
   "execution_count": null,
   "metadata": {
    "collapsed": true
   },
   "outputs": [],
   "source": [
    "\n",
    "\n",
    "    "
   ]
  },
  {
   "cell_type": "code",
   "execution_count": null,
   "metadata": {},
   "outputs": [],
   "source": []
  },
  {
   "cell_type": "code",
   "execution_count": null,
   "metadata": {
    "collapsed": true
   },
   "outputs": [],
   "source": []
  }
 ],
 "metadata": {
  "kernelspec": {
   "display_name": "Python 3",
   "language": "python",
   "name": "python3"
  },
  "language_info": {
   "codemirror_mode": {
    "name": "ipython",
    "version": 3
   },
   "file_extension": ".py",
   "mimetype": "text/x-python",
   "name": "python",
   "nbconvert_exporter": "python",
   "pygments_lexer": "ipython3",
   "version": "3.6.3"
  }
 },
 "nbformat": 4,
 "nbformat_minor": 2
}
