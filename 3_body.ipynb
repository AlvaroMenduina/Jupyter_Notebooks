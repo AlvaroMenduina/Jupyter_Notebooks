{
 "cells": [
  {
   "cell_type": "markdown",
   "metadata": {},
   "source": [
    "# A remarkable periodic solution of the 3-body problem with equal masses\n",
    "\n",
    "In 2000 Alain Chenciner and Richard Montgomery published a [paper](https://arxiv.org/abs/math/0011268) about the discovery a new periodic solution of the 3-body problem.\n",
    "\n",
    "In this peculiar configuration, the 3 bodies (of equal masses) orbit each other forming an 8-shaped curved which was shown to be stable."
   ]
  },
  {
   "cell_type": "markdown",
   "metadata": {},
   "source": [
    "In this Jupyter notebook, a quick and simple visualization of this 3-body problem solution is presented. We will use a simple numerical integrator from Scipy"
   ]
  },
  {
   "cell_type": "markdown",
   "metadata": {},
   "source": [
    "## Setting up the initial conditions"
   ]
  },
  {
   "cell_type": "code",
   "execution_count": 1,
   "metadata": {
    "collapsed": true
   },
   "outputs": [],
   "source": [
    "import numpy as np\n",
    "# Starting positions on the XY plane\n",
    "p1 = np.array([0.97000436, -0.24308753])\n",
    "p2 = -p1\n",
    "p3 = np.zeros(2)"
   ]
  },
  {
   "cell_type": "code",
   "execution_count": 2,
   "metadata": {
    "collapsed": true
   },
   "outputs": [],
   "source": [
    "# Starting velocities\n",
    "v3 = np.array([-0.93240737, -0.86473146])\n",
    "v1 = -0.5*v3\n",
    "v2 = v1"
   ]
  },
  {
   "cell_type": "code",
   "execution_count": 3,
   "metadata": {
    "collapsed": true
   },
   "outputs": [],
   "source": [
    "# Initial vector state \n",
    "x0 = np.concatenate((p1, p2, p3, v1, v2, v3))"
   ]
  },
  {
   "cell_type": "markdown",
   "metadata": {},
   "source": [
    "## Plot initial positions"
   ]
  },
  {
   "cell_type": "code",
   "execution_count": 4,
   "metadata": {},
   "outputs": [
    {
     "data": {
      "image/png": "[encoded data removed]",
      "text/plain": [
       "<matplotlib.figure.Figure at 0x7f9e81c90748>"
      ]
     },
     "metadata": {},
     "output_type": "display_data"
    }
   ],
   "source": [
    "import matplotlib.pyplot as plt\n",
    "plt.figure()\n",
    "plt.title('Starting position for the 3-body problem')\n",
    "plt.scatter(p1[0], p1[1], color='green', label='M1')\n",
    "plt.quiver(p1[0], p1[1], v1[0], v1[1])\n",
    "plt.scatter(p2[0], p2[1], color='blue', label='M2')\n",
    "plt.quiver(p2[0], p2[1], v2[0], v2[1])\n",
    "plt.scatter(p3[0], p3[1], color='red', label='M3')\n",
    "plt.quiver(p3[0], p3[1], v3[0], v3[1])\n",
    "plt.xlabel('X')\n",
    "plt.ylabel('Y')\n",
    "plt.xlim([-1.2, 1.2])\n",
    "plt.ylim([-0.5, 0.5])\n",
    "plt.legend()\n",
    "plt.show()"
   ]
  },
  {
   "cell_type": "markdown",
   "metadata": {},
   "source": [
    "## Solving the 3-body problem\n",
    "In order to solve the time evolution of this dynamic system we have to numerically solve the 2nd order differential equation which governs its motion.\n",
    "\n",
    "The motion of each body $i$ is given by Newton's law of gravitation which relates the acceleration $\\ddot{x_{i}}$ to the distances between the different bodies.\n",
    "\n",
    "In this case $N=3$ and as all masses are equal, $\\mu$ is set to 1."
   ]
  },
  {
   "cell_type": "markdown",
   "metadata": {},
   "source": [
    "\\begin{equation}\n",
    "\\ddot{x_{i}} = \\sum_{j=1, j \\neq i}^N - \\mu \\frac{x_{i} - x_{j}}{\\lVert x_{i} - x_{j} \\lVert ^{3}}\n",
    "\\end{equation}"
   ]
  },
  {
   "cell_type": "markdown",
   "metadata": {},
   "source": [
    "### Setting the system of differential equations"
   ]
  },
  {
   "cell_type": "markdown",
   "metadata": {},
   "source": [
    "Unfortunately, the majority of numerical integrators are designed to solve 1st order differential equations of the form $\\dot{y} = f(y, t)$ so we have to transform our 2nd order system into a 1sr order.\n",
    "\n",
    "This can easily done by realising that $v = \\dot{x}$ and $\\dot{v}=\\ddot{x}$, which means that our function $f$ can be written as:"
   ]
  },
  {
   "cell_type": "markdown",
   "metadata": {},
   "source": [
    "\\begin{equation}\n",
    "\\dot{y} = f(y,t) = \\frac{d(x, v)}{dt} = (v, \\ddot{x})\n",
    "\\end{equation}"
   ]
  },
  {
   "cell_type": "markdown",
   "metadata": {},
   "source": [
    "Which means that the new vector state contains both position $x$ and velocity $v$. Translated into a Python function:"
   ]
  },
  {
   "cell_type": "code",
   "execution_count": 5,
   "metadata": {
    "collapsed": true
   },
   "outputs": [],
   "source": [
    "def equations_of_motion(t, y):\n",
    "    \"Compute the equations of motion at each time t\"\n",
    "    x = y[:6]  # Position\n",
    "    v = y[6:]  # Velocity\n",
    "    x1, x2, x3 = x[:2], x[2:4], x[4:6]\n",
    "    \n",
    "    # Define vectors\n",
    "    r12 = x2 - x1\n",
    "    r13 = x3 - x1\n",
    "    r21 = -r12\n",
    "    r23 = x3 - x2\n",
    "    r31 = -r13\n",
    "    r32 = -r23\n",
    "    \n",
    "    # Define radial distances\n",
    "    R12 = np.sqrt(np.dot(r12,r12))\n",
    "    R13 = np.sqrt(np.dot(r13,r13))\n",
    "    R23 = np.sqrt(np.dot(r23,r23))\n",
    "    \n",
    "    # Define accelerations\n",
    "    a1 = r12/R12**3 + r13/R13**3\n",
    "    a2 = r21/R12**3 + r23/R23**3\n",
    "    a3 = r31/R13**3 + r32/R23**3\n",
    "    a = np.concatenate((a1, a2, a3))\n",
    "    \n",
    "    # Return derivatives\n",
    "    y_prime = np.concatenate((v, a))\n",
    "    \n",
    "    return y_prime\n",
    "    "
   ]
  },
  {
   "cell_type": "markdown",
   "metadata": {},
   "source": [
    "### Numerical integration\n",
    "\n",
    "We will use a simple Runge-Kutta integrator from Scipy to solve the equations of motion"
   ]
  },
  {
   "cell_type": "code",
   "execution_count": 6,
   "metadata": {},
   "outputs": [
    {
     "data": {
      "text/plain": [
       "<scipy.integrate._ode.ode at 0x7f9e749a6b00>"
      ]
     },
     "execution_count": 6,
     "metadata": {},
     "output_type": "execute_result"
    }
   ],
   "source": [
    "from scipy.integrate import ode\n",
    "inte = ode(f=equations_of_motion)\n",
    "inte.set_integrator('dopri5')  # Runge-Kutta integrator\n",
    "inte.set_initial_value(x0, t=0)"
   ]
  },
  {
   "cell_type": "code",
   "execution_count": 10,
   "metadata": {},
   "outputs": [
    {
     "data": {
      "image/png": "[encoded data removed]",
      "text/plain": [
       "<matplotlib.figure.Figure at 0x7f9e65024978>"
      ]
     },
     "metadata": {},
     "output_type": "display_data"
    }
   ],
   "source": [
    "T = 6.32591398   # Period of the orbit\n",
    "Tmax = T/3\n",
    "plt.figure()\n",
    "plt.title('Solution of the 3-body problem')\n",
    "for t in np.linspace(0, Tmax, 100):\n",
    "    inte.integrate(t)\n",
    "    res = inte.y  # Retrieve current state\n",
    "    alpha = 1.0 - t/Tmax\n",
    "    plt.scatter(res[0], res[1], color='green', s=4, alpha=alpha)\n",
    "    plt.scatter(res[2], res[3], color='blue', s=4, alpha=alpha)\n",
    "    plt.scatter(res[4], res[5], color='red', s=4, alpha=alpha)\n",
    "plt.xlim([-1.5, 1.5])\n",
    "plt.ylim([-0.5, 0.5])\n",
    "plt.xlabel('X')\n",
    "plt.ylabel('Y')\n",
    "plt.show()"
   ]
  },
  {
   "cell_type": "code",
   "execution_count": null,
   "metadata": {
    "collapsed": true
   },
   "outputs": [],
   "source": []
  }
 ],
 "metadata": {
  "kernelspec": {
   "display_name": "Python 3",
   "language": "python",
   "name": "python3"
  },
  "language_info": {
   "codemirror_mode": {
    "name": "ipython",
    "version": 3
   },
   "file_extension": ".py",
   "mimetype": "text/x-python",
   "name": "python",
   "nbconvert_exporter": "python",
   "pygments_lexer": "ipython3",
   "version": "3.6.3"
  }
 },
 "nbformat": 4,
 "nbformat_minor": 2
}
