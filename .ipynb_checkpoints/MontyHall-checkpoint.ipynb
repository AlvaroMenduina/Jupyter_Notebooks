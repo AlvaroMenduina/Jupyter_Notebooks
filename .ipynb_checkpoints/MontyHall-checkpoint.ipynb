{
 "cells": [
  {
   "cell_type": "markdown",
   "metadata": {},
   "source": [
    "# Monty Hall problem\n",
    "\n",
    "This Jupyter Notebook analyses the famous TV show game known as the Monty Hall problem. The game works as follows:\n",
    "\n",
    "(1) There are 3 Doors to choose from. Only one contains the Prize.\n",
    "\n",
    "(2) Initially you get to choose 1 Door, which remains closed.\n",
    "\n",
    "(3) The Showman opens one of the 2 remaining Doors (always the one which does NOT contain the Prize).\n",
    "\n",
    "(4) At this point you get the opportunity to change your initial choice for the Door the Showman did not open.\n",
    "\n",
    "(5) Once you make the decision of whether or not to change, the result is revealed and you win or lose\n"
   ]
  },
  {
   "cell_type": "markdown",
   "metadata": {},
   "source": [
    "## Should you Change your initial choice?\n",
    "In the TV show, most people decide to stick with their initial choices. One of the reasons people tend to refuse to change is human psicology: \"what if the door I chose first had the Prize already?\" Yes, the feeling of losing is bad; however, it's even worse to discover that you were about to win but you just lost because you changed your mind.\n",
    "\n",
    "Setting feelings aside, can we use Statistics to show which game strategy is optimal? A quick formal analysis of the game shows that if we \"Never Change Doors\" (like most people do) our chances of winning are 1/3 (33.3%). In contrast, if we \"Always Change Doors\" (the unpopular way) our chances essentially double to 2/3 (66.6%).\n",
    "\n",
    "In popular culture, people find this result hard to believe as it is not very intuitive. People may not properly understand formal statistics, but they readily understand the \"brute force\" approach: \"why not play the game many times, using both strategies and see which one works best?\"\n",
    "\n",
    "The essence of Probability is that if we repeat the experiment many times, the results will eventually ressemble the formal result. So if we play the Monty Hall game many times we should be able to reproduce the formal results of 1/3 (33.3%) for the \"NeverChange\" strategy and 2/3 (66.6%) for the \"AlwaysChange\" strategy."
   ]
  },
  {
   "cell_type": "markdown",
   "metadata": {},
   "source": [
    "## The Game\n",
    "First of all, we will play a single round of the Monty Hall game so that we become familiar with the rules and with the Python programming language"
   ]
  },
  {
   "cell_type": "code",
   "execution_count": 68,
   "metadata": {
    "collapsed": true
   },
   "outputs": [],
   "source": [
    "import numpy as np\n",
    "import matplotlib.pyplot as plt"
   ]
  },
  {
   "cell_type": "markdown",
   "metadata": {},
   "source": [
    "We start by randomly selecting the Door behind which the Prize will be:"
   ]
  },
  {
   "cell_type": "code",
   "execution_count": 69,
   "metadata": {},
   "outputs": [
    {
     "name": "stdout",
     "output_type": "stream",
     "text": [
      "The Prize is behind Door #2\n"
     ]
    }
   ],
   "source": [
    "# doors contains the numbers of the 3 Doors\n",
    "doors = [0, 1, 2]\n",
    "# Draw a random number from the Integers up to 2\n",
    "prize = np.random.randint(3)\n",
    "print('The Prize is behind Door #%d' %prize)"
   ]
  },
  {
   "cell_type": "markdown",
   "metadata": {},
   "source": [
    "### Let's make our first choice\n",
    "Assuming we don't know where the Prize actually is, we randomly Choose a Door "
   ]
  },
  {
   "cell_type": "code",
   "execution_count": 70,
   "metadata": {},
   "outputs": [
    {
     "name": "stdout",
     "output_type": "stream",
     "text": [
      "I choose Door #1 because it's my favourite number\n"
     ]
    }
   ],
   "source": [
    "first_choice = np.random.randint(3)\n",
    "print(\"I choose Door #%d because it's my favourite number\" %first_choice)"
   ]
  },
  {
   "cell_type": "markdown",
   "metadata": {},
   "source": [
    "### Time to open one Door\n",
    "Now the Showman will open one of the 2 Doors I didn't choose"
   ]
  },
  {
   "cell_type": "code",
   "execution_count": 71,
   "metadata": {},
   "outputs": [
    {
     "name": "stdout",
     "output_type": "stream",
     "text": [
      "Showman opens Door #0\n",
      "The Door is empty!\n"
     ]
    }
   ],
   "source": [
    "# The 2 Doors that I did NOT choose\n",
    "remaining_doors = [door for door in doors if door!= first_choice]\n",
    "\n",
    "if prize in remaining_doors:\n",
    "    # If the Prize is in one of the Two Remaining Doors\n",
    "    # they showman will choose to show us the one WITHOUT the prize\n",
    "    shown_door = [door for door in remaining_doors if door!=prize]\n",
    "    shown_door = shown_door[0]\n",
    "    not_shown_door = prize\n",
    "    \n",
    "elif prize not in remaining_doors:\n",
    "    # If the Prize is NOT in any of the Two Remaining Doors\n",
    "    # then it doesn't matter which one the TV showman chooses\n",
    "    # By default he chooses the one on the left\n",
    "    shown_door = remaining_doors[0]\n",
    "    not_shown_door = remaining_doors[1]\n",
    "    \n",
    "print('Showman opens Door #%d' %shown_door)\n",
    "if prize != shown_door:\n",
    "    print('The Door is empty!')"
   ]
  },
  {
   "cell_type": "markdown",
   "metadata": {},
   "source": [
    "### The dreadful Choice\n",
    "At this point the Showman offers us the opportunity to change our initial choice for the Door that he didn't open.\n",
    "If we set the \"AlwaysChange\" strategy to True, then we will change our initial choice. If not, then we keep our initial door."
   ]
  },
  {
   "cell_type": "code",
   "execution_count": 5,
   "metadata": {},
   "outputs": [
    {
     "name": "stdout",
     "output_type": "stream",
     "text": [
      "We decide to change from Door #0 to Door #1\n"
     ]
    }
   ],
   "source": [
    "AlwaysChange = True\n",
    "\n",
    "if AlwaysChange:\n",
    "    print('We decide to change from Door #%d to Door #%d' \n",
    "          %(first_choice, not_shown_door))\n",
    "    new_choice = not_shown_door\n",
    "    \n",
    "if not AlwaysChange:\n",
    "    print('We decide to stick with our first choice: Door #%d' \n",
    "          %(first_choice))\n",
    "    new_choice = first_choice"
   ]
  },
  {
   "cell_type": "markdown",
   "metadata": {
    "collapsed": true
   },
   "source": [
    "### The moment of Truth\n",
    "Depending on our strategy \"AlwaysChange\" or \"NeverChange\" we will see what happens"
   ]
  },
  {
   "cell_type": "code",
   "execution_count": 72,
   "metadata": {},
   "outputs": [
    {
     "name": "stdout",
     "output_type": "stream",
     "text": [
      "Oh! You have lost\n"
     ]
    }
   ],
   "source": [
    "if new_choice == prize:\n",
    "    print('Congratulations you just won!')\n",
    "if new_choice != prize:\n",
    "    print('Oh! You have lost')"
   ]
  },
  {
   "cell_type": "markdown",
   "metadata": {
    "collapsed": true
   },
   "source": [
    "## Generalization to many rounds\n",
    "\n",
    "Now that we understand how the game operates, we will use Large Number statistics to investigate whether the \"AlwaysChange\" strategy really pays off.\n",
    "\n",
    "Playing only 1 round is not very significant, as we can just be unlucky and change our choice when the prize was already in our first choice.\n",
    "But if we play many (thousands) of rounds the effects of luck will become negligible"
   ]
  },
  {
   "cell_type": "code",
   "execution_count": 27,
   "metadata": {
    "collapsed": true
   },
   "outputs": [],
   "source": [
    "def MontyHall_round(strategy):\n",
    "    \"\"\" \n",
    "    This function simulates a single round of Monty Hall\n",
    "    making the choice of whether or not to Change Doors depending\n",
    "    on a given strategy\n",
    "    \n",
    "    Returns 1 if you win, returns 0 if you loose\n",
    "    \"\"\"\n",
    "    doors = [0, 1, 2]\n",
    "    prize = np.random.randint(3)\n",
    "    first_choice = np.random.randint(3)\n",
    "    remaining_doors = [door for door in doors if door!= first_choice]\n",
    "    \n",
    "    if prize in remaining_doors:\n",
    "        shown_door = [door for door in remaining_doors if door!=prize]\n",
    "        shown_door = shown_door[0]\n",
    "        not_shown_door = prize\n",
    "    elif prize not in remaining_doors:\n",
    "        shown_door = remaining_doors[0]\n",
    "        not_shown_door = remaining_doors[1]\n",
    "\n",
    "    if strategy == 'AlwaysChange':\n",
    "        new_choice = not_shown_door\n",
    "    \n",
    "    if strategy == 'NeverChange':\n",
    "        new_choice = first_choice\n",
    "        \n",
    "    if new_choice == prize:\n",
    "        return 1\n",
    "        \n",
    "    return 0"
   ]
  },
  {
   "cell_type": "markdown",
   "metadata": {},
   "source": [
    "### Playing many rounds\n",
    "Here we have set the number of games to be played to 10000, but feel free to change it to see how it affects the result. We will play N_games for each of the 2 strategies: \"AlwaysChange\" and \"NeverChange\".\n",
    "\n",
    "For each strategy, everytime we win we add 1 to the list \"results\""
   ]
  },
  {
   "cell_type": "code",
   "execution_count": 79,
   "metadata": {
    "collapsed": true
   },
   "outputs": [],
   "source": [
    "N_games = 10000\n",
    "results_always_change = []\n",
    "results_never_change = []\n",
    "\n",
    "for i in range(N_games):  # Loop over each Game\n",
    "    \n",
    "    # Play a round Changing Doors\n",
    "    game_always_change = MontyHall_round(strategy='AlwaysChange')\n",
    "    # Play a round Without Changing Doors\n",
    "    game_never_change = MontyHall_round(strategy='NeverChange')\n",
    "    \n",
    "    # If we win, we add 1 to our lists\n",
    "    if game_always_change == 1:\n",
    "        results_always_change.append(1)\n",
    "    if game_never_change == 1:\n",
    "        results_never_change.append(1)"
   ]
  },
  {
   "cell_type": "markdown",
   "metadata": {},
   "source": [
    "## Busting the Myth\n",
    "Now it's the moment of Truth. We will count how many times we have won with each strategy and see if it really pays off to Always change Doors.\n",
    "\n",
    "The results should approach the 1/3 (33.3%) and 2/3 (66.6%) success ratios"
   ]
  },
  {
   "cell_type": "code",
   "execution_count": 80,
   "metadata": {},
   "outputs": [
    {
     "name": "stdout",
     "output_type": "stream",
     "text": [
      "After playing 10000 rounds:\n",
      "Rounds won without Changing Doors = 3308 (33.1)\n",
      "Rounds won Changing Doors = 6670 (66.7)\n"
     ]
    }
   ],
   "source": [
    "N_wins_always = len(results_always_change)\n",
    "N_wins_never = len(results_never_change)\n",
    "print('After playing %d rounds:' %N_games)\n",
    "print('Rounds won without Changing Doors = %d (%.1f)' %(N_wins_never, 100*N_wins_never/N_games))\n",
    "print('Rounds won Changing Doors = %d (%.1f)' %(N_wins_always, 100*N_wins_always/N_games))\n"
   ]
  },
  {
   "cell_type": "markdown",
   "metadata": {},
   "source": [
    "# Conclusions\n",
    "(1) We have shown that the laws of Probability are not broken. When we repeat an experiment (in this case a Game) many times, the results are approximately the ones derived using formal methods\n",
    "\n",
    "(2) We have shown that in the Monty Hall game, the unpopular strategy of \"Always Changing Doors\" makes you win 2 out 3 games, whereas \"Keeping your Initial Choice\" only makes you win 1 out of 3 games. In order to do this, we have used the fair and transparent approach of playing many games and see what happens. No fancy mathematics, no mind tricks! Just pure \"brute force\" in a computer"
   ]
  },
  {
   "cell_type": "markdown",
   "metadata": {
    "collapsed": true
   },
   "source": [
    "## (Extra) Impact of Number of Games played in Statistics\n",
    "\n",
    "As we have mentioned above, Probability works well when we repeat the experiments sufficient times. But when you run the experiment just a few times, the results may deviate a lot from the formal result. For instance, one can go to the Casino bet at number 7 in the Roulette, be lucky and win straight away. If that happens, you could just collect your money, run back home and claim to be 100% successful at Roulette. The same is true if you lose all your money immediately and realise your success ratio was 0%.\n",
    "\n",
    "As a single person, if you go to the TV show and play the Monty Hall game, you only get one chance. It is not until many people play that we start to see the probabilistic rules take effect. To see how this effect impacts the Monty Hall game we will do the following analysis."
   ]
  },
  {
   "cell_type": "markdown",
   "metadata": {},
   "source": [
    "## Analysis\n",
    "(1) Let us assume we have 10 people playing the game (M_person = 10) and that each person is allowed to play N_games in a row. \n",
    "\n",
    "(2) We will change the number of games people are allowed to play (N_games) from 1 up to 10000. \n",
    "\n",
    "(3) For each case of N_games, we will make each of the 10 people play (using both Strategies) and record the results"
   ]
  },
  {
   "cell_type": "code",
   "execution_count": 81,
   "metadata": {
    "collapsed": true
   },
   "outputs": [],
   "source": [
    "N_games = np.array([1, 2, 5, 10, 50, 100, 500, 1000, 10000])\n",
    "N = N_games.shape[0]    # Number of Cases of N_games\n",
    "M_person = 10           # Number of People playing\n",
    "\n",
    "# Number of times each person M_person wins being allowed to play N games\n",
    "wins_always = np.zeros((N, M_person))\n",
    "wins_never = np.zeros((N, M_person))\n",
    "\n",
    "for j in range(M_person):   # Loop over the number of People\n",
    "    for i in range(N):      # Loop over each number of Games allowed\n",
    "        results_always = []\n",
    "        results_never = []\n",
    "        games_to_play = N_games[i]\n",
    "        \n",
    "        for k in range(games_to_play):  # Run N_games for each (Person, N_games)\n",
    "            game_always = MontyHall_round(strategy='AlwaysChange')\n",
    "            game_never = MontyHall_round(strategy='NeverChange')\n",
    "            if game_always == 1:\n",
    "                results_always.append(1)\n",
    "            if game_never == 1:\n",
    "                results_never.append(1)\n",
    "                \n",
    "        # Divide by each N_games to get the Win Ratio\n",
    "        wins_always[i, j] = len(results_always)/games_to_play\n",
    "        wins_never[i, j] = len(results_never)/games_to_play\n",
    "        "
   ]
  },
  {
   "cell_type": "markdown",
   "metadata": {},
   "source": [
    "## Results\n",
    "Now we plot the results and try to learn something out of them. The X-axis shows \"How many Rounds people are allowed to play\" and the Y-axis shows the \"Win Percentage\". Each point in the graph represents a person.\n",
    "\n",
    "Let's begin with the \"Never Chaning Doors\" strategy"
   ]
  },
  {
   "cell_type": "code",
   "execution_count": 85,
   "metadata": {},
   "outputs": [
    {
     "name": "stdout",
     "output_type": "stream",
     "text": [
      "[ 0.2      0.35     0.38     0.31     0.326    0.325    0.3404   0.3354\n",
      "  0.33439]\n"
     ]
    },
    {
     "data": {
      "image/png": "[encoded data removed]",
      "text/plain": [
       "<matplotlib.figure.Figure at 0x7fc0c0cace10>"
      ]
     },
     "metadata": {},
     "output_type": "display_data"
    }
   ],
   "source": [
    "plt.figure()\n",
    "for i in range(N):\n",
    "    n = N_games[i]*np.ones(M_person)\n",
    "    plt.scatter(n, 100*wins_never[i], color='blue', s=3)\n",
    "plt.xscale('log')\n",
    "plt.ylabel('Win percentage')\n",
    "plt.xlabel('Number of Rounds allowed to be played')\n",
    "plt.title('Influence of #Rounds played (Never Changing)')\n",
    "plt.axhline(y=33.333, color='blue', linestyle='--')\n",
    "plt.show()"
   ]
  },
  {
   "cell_type": "markdown",
   "metadata": {},
   "source": [
    "On the left side of the graph, we can see that if players are only allowed to play 1 round ($10^0$), some of them always win (100%) and some of them always lose (0%). When players are allowed to play 2 rounds, some win both rounds (100%), some win one round and lose the other (50%) and some lose both rounds (0%). But as we increase the number of Rounds allowed to be played, all players converge to the known 33.3% ratio.\n",
    "\n",
    "You could think that this means our previous result about the optimal strategy does not apply to the N_games = 1 case, because some people always win (100%). The truth is that as we have allowed 10 people to play 1 round each (the realistic scenario) we could compute the average success accross those 10 people"
   ]
  },
  {
   "cell_type": "code",
   "execution_count": 86,
   "metadata": {},
   "outputs": [
    {
     "name": "stdout",
     "output_type": "stream",
     "text": [
      "[ 0.2      0.35     0.38     0.31     0.326    0.325    0.3404   0.3354\n",
      "  0.33439]\n"
     ]
    }
   ],
   "source": [
    "average_never = np.mean(wins_never, axis=1)\n",
    "print('Success ratio ')\n",
    "print(average_never)"
   ]
  },
  {
   "cell_type": "code",
   "execution_count": 66,
   "metadata": {},
   "outputs": [
    {
     "data": {
      "image/png": "[encoded data removed]",
      "text/plain": [
       "<matplotlib.figure.Figure at 0x7fc0c0e7a780>"
      ]
     },
     "metadata": {},
     "output_type": "display_data"
    }
   ],
   "source": [
    "plt.figure()\n",
    "for i in range(N):\n",
    "    n = N_games[i]*np.ones(M_person)\n",
    "    plt.scatter(n, 100*wins_always[i], color='green', s=4)\n",
    "plt.xscale('log')\n",
    "plt.ylabel('Win percentage')\n",
    "plt.xlabel('Number of Rounds allowed to be played')\n",
    "plt.title('Influence of #Rounds played (Always Changing)')\n",
    "plt.axhline(y=66.666, color='green', linestyle='--')\n",
    "plt.show()\n"
   ]
  },
  {
   "cell_type": "code",
   "execution_count": null,
   "metadata": {
    "collapsed": true
   },
   "outputs": [],
   "source": []
  }
 ],
 "metadata": {
  "kernelspec": {
   "display_name": "Python 3",
   "language": "python",
   "name": "python3"
  },
  "language_info": {
   "codemirror_mode": {
    "name": "ipython",
    "version": 3
   },
   "file_extension": ".py",
   "mimetype": "text/x-python",
   "name": "python",
   "nbconvert_exporter": "python",
   "pygments_lexer": "ipython3",
   "version": "3.6.3"
  }
 },
 "nbformat": 4,
 "nbformat_minor": 2
}
